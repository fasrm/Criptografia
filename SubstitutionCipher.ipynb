{
  "nbformat": 4,
  "nbformat_minor": 0,
  "metadata": {
    "colab": {
      "provenance": []
    },
    "kernelspec": {
      "name": "python3",
      "display_name": "Python 3"
    },
    "language_info": {
      "name": "python"
    }
  },
  "cells": [
    {
      "cell_type": "code",
      "execution_count": 40,
      "metadata": {
        "id": "VNGGj6NhZRzx"
      },
      "outputs": [],
      "source": [
        "import random"
      ]
    },
    {
      "cell_type": "code",
      "source": [
        "def generate_key():\n",
        "  letters = \"ABCDEFGHIJKLMNOPQRSTUVWXYZ\"\n",
        "  cletters = list(letters)\n",
        "  key = {}\n",
        "  for c in letters:\n",
        "    key[c] = cletters.pop(random.randint(0, len(cletters) - 1))\n",
        "  return key\n"
      ],
      "metadata": {
        "id": "5cnBH5tPZypB"
      },
      "execution_count": 41,
      "outputs": []
    },
    {
      "cell_type": "code",
      "source": [
        "key = generate_key()\n",
        "print(key)"
      ],
      "metadata": {
        "colab": {
          "base_uri": "https://localhost:8080/"
        },
        "id": "-gbeQ9sCaN7H",
        "outputId": "db61e9d8-4b1e-4654-f52b-b7e2d90d6db9"
      },
      "execution_count": 42,
      "outputs": [
        {
          "output_type": "stream",
          "name": "stdout",
          "text": [
            "{'A': 'V', 'B': 'R', 'C': 'A', 'D': 'T', 'E': 'J', 'F': 'S', 'G': 'G', 'H': 'X', 'I': 'H', 'J': 'U', 'K': 'M', 'L': 'P', 'M': 'D', 'N': 'W', 'O': 'B', 'P': 'K', 'Q': 'Z', 'R': 'Y', 'S': 'E', 'T': 'O', 'U': 'L', 'V': 'F', 'W': 'C', 'X': 'N', 'Y': 'Q', 'Z': 'I'}\n"
          ]
        }
      ]
    },
    {
      "cell_type": "code",
      "source": [
        "def encrypt(key, message):\n",
        "  cipher = \"\"\n",
        "  for c in message:\n",
        "    if c in key:\n",
        "      cipher += key[c]\n",
        "    else:\n",
        "      cipher += c\n",
        "  return cipher"
      ],
      "metadata": {
        "id": "a23tbWdjaqu_"
      },
      "execution_count": 43,
      "outputs": []
    },
    {
      "cell_type": "code",
      "source": [
        "message = \"YOU ARE AWESOME\"\n",
        "cipher = encrypt(key, message)\n",
        "print(cipher)"
      ],
      "metadata": {
        "colab": {
          "base_uri": "https://localhost:8080/"
        },
        "id": "poBTUYoaa6QK",
        "outputId": "abb5bfac-a93f-491d-863f-6ba1f772c024"
      },
      "execution_count": 44,
      "outputs": [
        {
          "output_type": "stream",
          "name": "stdout",
          "text": [
            "QBL VYJ VCJEBDJ\n"
          ]
        }
      ]
    },
    {
      "cell_type": "code",
      "source": [
        "def get_decrypt_ket(key):\n",
        "  dkey = {}\n",
        "  for c in key:\n",
        "    dkey[key[c]] = c\n",
        "  return dkey"
      ],
      "metadata": {
        "id": "90JHvmGMbB8H"
      },
      "execution_count": 45,
      "outputs": []
    },
    {
      "cell_type": "code",
      "source": [
        "dkey = get_decrypt_ket(key)\n",
        "message = encrypt(dkey, cipher)\n",
        "print(message)"
      ],
      "metadata": {
        "colab": {
          "base_uri": "https://localhost:8080/"
        },
        "id": "GH--fiSccOVI",
        "outputId": "8b9ee3e1-6892-40c8-e565-439d29cef0b2"
      },
      "execution_count": 46,
      "outputs": [
        {
          "output_type": "stream",
          "name": "stdout",
          "text": [
            "YOU ARE AWESOME\n"
          ]
        }
      ]
    },
    {
      "cell_type": "code",
      "source": [],
      "metadata": {
        "id": "3gC_lKDfcWGQ"
      },
      "execution_count": 46,
      "outputs": []
    }
  ]
}