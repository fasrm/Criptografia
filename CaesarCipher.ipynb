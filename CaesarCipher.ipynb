{
  "nbformat": 4,
  "nbformat_minor": 0,
  "metadata": {
    "colab": {
      "provenance": []
    },
    "kernelspec": {
      "name": "python3",
      "display_name": "Python 3"
    },
    "language_info": {
      "name": "python"
    }
  },
  "cells": [
    {
      "cell_type": "code",
      "execution_count": 5,
      "metadata": {
        "id": "PsYe5u7eEJtH"
      },
      "outputs": [],
      "source": [
        "def generate_key(n):\n",
        "  letters = \"ABCDEFGHIJKLMNOPQRSTUVWXYZ\"\n",
        "  key = {}\n",
        "  cnt  = 0 # counter\n",
        "  for c in letters:\n",
        "    key[c] = letters[(cnt + n) % len(letters)]\n",
        "    cnt += 1\n",
        "  return key\n"
      ]
    },
    {
      "cell_type": "code",
      "source": [
        "key = generate_key(3)\n",
        "print(key)"
      ],
      "metadata": {
        "colab": {
          "base_uri": "https://localhost:8080/"
        },
        "id": "kW4OY_l5E6bp",
        "outputId": "6ad410e7-769d-4449-9054-8d8ddf4c35ed"
      },
      "execution_count": 8,
      "outputs": [
        {
          "output_type": "stream",
          "name": "stdout",
          "text": [
            "{'A': 'D', 'B': 'E', 'C': 'F', 'D': 'G', 'E': 'H', 'F': 'I', 'G': 'J', 'H': 'K', 'I': 'L', 'J': 'M', 'K': 'N', 'L': 'O', 'M': 'P', 'N': 'Q', 'O': 'R', 'P': 'S', 'Q': 'T', 'R': 'U', 'S': 'V', 'T': 'W', 'U': 'X', 'V': 'Y', 'W': 'Z', 'X': 'A', 'Y': 'B', 'Z': 'C'}\n"
          ]
        }
      ]
    },
    {
      "cell_type": "code",
      "source": [
        "def encrypt(key, message):\n",
        "  cipher = \"\"\n",
        "  for c in message:\n",
        "    if c in key:\n",
        "      cipher += key[c]\n",
        "    else:\n",
        "      cipher += c\n",
        "  return cipher"
      ],
      "metadata": {
        "id": "uWzXfJh6E-4v"
      },
      "execution_count": 9,
      "outputs": []
    },
    {
      "cell_type": "code",
      "source": [
        "message = \"YOU ARE AWESOME\"\n",
        "cipher = encrypt(key, message)\n",
        "print(cipher)"
      ],
      "metadata": {
        "colab": {
          "base_uri": "https://localhost:8080/"
        },
        "id": "KtKnSN4YFq9m",
        "outputId": "67e2fec9-06a0-44f6-f966-10e5bb97db24"
      },
      "execution_count": 10,
      "outputs": [
        {
          "output_type": "stream",
          "name": "stdout",
          "text": [
            "BRX DUH DZHVRPH\n"
          ]
        }
      ]
    },
    {
      "cell_type": "code",
      "source": [
        "message = encrypt(key, message)\n",
        "print(message)"
      ],
      "metadata": {
        "colab": {
          "base_uri": "https://localhost:8080/"
        },
        "id": "a-LFDkV0F2Ut",
        "outputId": "f367f67b-be99-425f-b199-949f87a83afc"
      },
      "execution_count": 11,
      "outputs": [
        {
          "output_type": "stream",
          "name": "stdout",
          "text": [
            "BRX DUH DZHVRPH\n"
          ]
        }
      ]
    },
    {
      "cell_type": "code",
      "source": [
        "dkey = generate_key(26-3)"
      ],
      "metadata": {
        "id": "qyBTSsstGyFe"
      },
      "execution_count": 12,
      "outputs": []
    },
    {
      "cell_type": "code",
      "source": [
        "message = encrypt(dkey, cipher)\n",
        "print(message)"
      ],
      "metadata": {
        "colab": {
          "base_uri": "https://localhost:8080/"
        },
        "id": "dAK554erG2Su",
        "outputId": "90bf67ec-5cde-4a08-fcf8-eb51ea093579"
      },
      "execution_count": 13,
      "outputs": [
        {
          "output_type": "stream",
          "name": "stdout",
          "text": [
            "YOU ARE AWESOME\n"
          ]
        }
      ]
    },
    {
      "cell_type": "code",
      "source": [
        "def get_decryption_key(key):\n",
        "  dkey = {}\n",
        "  for c in key:\n",
        "    dkey[key[c]] = c\n",
        "  return dkey"
      ],
      "metadata": {
        "id": "OxjXbZHjG93J"
      },
      "execution_count": 14,
      "outputs": []
    },
    {
      "cell_type": "code",
      "source": [
        "dkey = get_decryption_key(key)\n",
        "message = encrypt(dkey, cipher)\n",
        "print(message)"
      ],
      "metadata": {
        "colab": {
          "base_uri": "https://localhost:8080/"
        },
        "id": "e8-0F_WRHVOO",
        "outputId": "f93ac6d7-f3d4-41a9-cea1-9663eecfbeff"
      },
      "execution_count": 15,
      "outputs": [
        {
          "output_type": "stream",
          "name": "stdout",
          "text": [
            "YOU ARE AWESOME\n"
          ]
        }
      ]
    },
    {
      "cell_type": "code",
      "source": [
        "print(key)"
      ],
      "metadata": {
        "colab": {
          "base_uri": "https://localhost:8080/"
        },
        "id": "ysP36oZjHbSt",
        "outputId": "74137fa3-1aef-48aa-94d6-e5776d202eb6"
      },
      "execution_count": 16,
      "outputs": [
        {
          "output_type": "stream",
          "name": "stdout",
          "text": [
            "{'A': 'D', 'B': 'E', 'C': 'F', 'D': 'G', 'E': 'H', 'F': 'I', 'G': 'J', 'H': 'K', 'I': 'L', 'J': 'M', 'K': 'N', 'L': 'O', 'M': 'P', 'N': 'Q', 'O': 'R', 'P': 'S', 'Q': 'T', 'R': 'U', 'S': 'V', 'T': 'W', 'U': 'X', 'V': 'Y', 'W': 'Z', 'X': 'A', 'Y': 'B', 'Z': 'C'}\n"
          ]
        }
      ]
    },
    {
      "cell_type": "code",
      "source": [
        "# Implementing an Attack on Caesar Cipher\n",
        "# this is done by your enemy\n",
        "key = generate_key(3)\n",
        "print(key)\n",
        "message = \"YOU ARE AWESOME\"\n",
        "cipher = encrypt(key, message)"
      ],
      "metadata": {
        "colab": {
          "base_uri": "https://localhost:8080/"
        },
        "id": "tFLQx1gZHlpN",
        "outputId": "03f46724-3b97-4351-9213-652354d9b122"
      },
      "execution_count": 17,
      "outputs": [
        {
          "output_type": "stream",
          "name": "stdout",
          "text": [
            "{'A': 'D', 'B': 'E', 'C': 'F', 'D': 'G', 'E': 'H', 'F': 'I', 'G': 'J', 'H': 'K', 'I': 'L', 'J': 'M', 'K': 'N', 'L': 'O', 'M': 'P', 'N': 'Q', 'O': 'R', 'P': 'S', 'Q': 'T', 'R': 'U', 'S': 'V', 'T': 'W', 'U': 'X', 'V': 'Y', 'W': 'Z', 'X': 'A', 'Y': 'B', 'Z': 'C'}\n"
          ]
        }
      ]
    },
    {
      "cell_type": "code",
      "source": [
        "# this is us breaking the cipher\n",
        "print(cipher)"
      ],
      "metadata": {
        "colab": {
          "base_uri": "https://localhost:8080/"
        },
        "id": "n3XbThPgLNa4",
        "outputId": "bfc06419-3b2c-4902-9201-29ec635deefa"
      },
      "execution_count": 18,
      "outputs": [
        {
          "output_type": "stream",
          "name": "stdout",
          "text": [
            "BRX DUH DZHVRPH\n"
          ]
        }
      ]
    },
    {
      "cell_type": "code",
      "source": [
        "for i in range(26):\n",
        "  dkey = generate_key(i)\n",
        "  message = encrypt(key, cipher)\n",
        "  print(message)"
      ],
      "metadata": {
        "colab": {
          "base_uri": "https://localhost:8080/"
        },
        "id": "AkD849IKLSnS",
        "outputId": "01f5489f-1dbd-439a-ef87-6ce696837459"
      },
      "execution_count": 19,
      "outputs": [
        {
          "output_type": "stream",
          "name": "stdout",
          "text": [
            "EUA GXK GCKYUSK\n",
            "EUA GXK GCKYUSK\n",
            "EUA GXK GCKYUSK\n",
            "EUA GXK GCKYUSK\n",
            "EUA GXK GCKYUSK\n",
            "EUA GXK GCKYUSK\n",
            "EUA GXK GCKYUSK\n",
            "EUA GXK GCKYUSK\n",
            "EUA GXK GCKYUSK\n",
            "EUA GXK GCKYUSK\n",
            "EUA GXK GCKYUSK\n",
            "EUA GXK GCKYUSK\n",
            "EUA GXK GCKYUSK\n",
            "EUA GXK GCKYUSK\n",
            "EUA GXK GCKYUSK\n",
            "EUA GXK GCKYUSK\n",
            "EUA GXK GCKYUSK\n",
            "EUA GXK GCKYUSK\n",
            "EUA GXK GCKYUSK\n",
            "EUA GXK GCKYUSK\n",
            "EUA GXK GCKYUSK\n",
            "EUA GXK GCKYUSK\n",
            "EUA GXK GCKYUSK\n",
            "EUA GXK GCKYUSK\n",
            "EUA GXK GCKYUSK\n",
            "EUA GXK GCKYUSK\n"
          ]
        }
      ]
    },
    {
      "cell_type": "code",
      "source": [
        "for i in range(26):\n",
        "  dkey = generate_key(i)\n",
        "  message = encrypt(dkey, cipher)\n",
        "  print(message)"
      ],
      "metadata": {
        "colab": {
          "base_uri": "https://localhost:8080/"
        },
        "id": "-dhZDpTLLiPu",
        "outputId": "8e11256d-73dd-4a09-9715-0d2990f4f0cd"
      },
      "execution_count": 20,
      "outputs": [
        {
          "output_type": "stream",
          "name": "stdout",
          "text": [
            "BRX DUH DZHVRPH\n",
            "CSY EVI EAIWSQI\n",
            "DTZ FWJ FBJXTRJ\n",
            "EUA GXK GCKYUSK\n",
            "FVB HYL HDLZVTL\n",
            "GWC IZM IEMAWUM\n",
            "HXD JAN JFNBXVN\n",
            "IYE KBO KGOCYWO\n",
            "JZF LCP LHPDZXP\n",
            "KAG MDQ MIQEAYQ\n",
            "LBH NER NJRFBZR\n",
            "MCI OFS OKSGCAS\n",
            "NDJ PGT PLTHDBT\n",
            "OEK QHU QMUIECU\n",
            "PFL RIV RNVJFDV\n",
            "QGM SJW SOWKGEW\n",
            "RHN TKX TPXLHFX\n",
            "SIO ULY UQYMIGY\n",
            "TJP VMZ VRZNJHZ\n",
            "UKQ WNA WSAOKIA\n",
            "VLR XOB XTBPLJB\n",
            "WMS YPC YUCQMKC\n",
            "XNT ZQD ZVDRNLD\n",
            "YOU ARE AWESOME\n",
            "ZPV BSF BXFTPNF\n",
            "AQW CTG CYGUQOG\n"
          ]
        }
      ]
    },
    {
      "cell_type": "code",
      "source": [],
      "metadata": {
        "id": "1Dc23OLrLpfw"
      },
      "execution_count": null,
      "outputs": []
    }
  ]
}