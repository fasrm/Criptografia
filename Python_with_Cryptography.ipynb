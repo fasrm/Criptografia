{
  "nbformat": 4,
  "nbformat_minor": 0,
  "metadata": {
    "colab": {
      "provenance": []
    },
    "kernelspec": {
      "name": "python3",
      "display_name": "Python 3"
    },
    "language_info": {
      "name": "python"
    }
  },
  "cells": [
    {
      "cell_type": "code",
      "execution_count": null,
      "metadata": {
        "id": "gE_OQ5OumeH3"
      },
      "outputs": [],
      "source": [
        "mensagem = 'This is program to explain reverse cipher.'\n",
        "traduzido = '' # cipher text is stored in this variable"
      ]
    },
    {
      "cell_type": "code",
      "source": [
        "i = len(mensagem) - 1\n",
        "print(i)"
      ],
      "metadata": {
        "colab": {
          "base_uri": "https://localhost:8080/"
        },
        "id": "C4_AIDarmsL7",
        "outputId": "5707eacf-3336-45e6-a213-d9bf72a24308"
      },
      "execution_count": null,
      "outputs": [
        {
          "output_type": "stream",
          "name": "stdout",
          "text": [
            "41\n"
          ]
        }
      ]
    },
    {
      "cell_type": "code",
      "source": [
        "while i >= 0:\n",
        "  traduzido = traduzido + mensagem[i]\n",
        "  i = i - 1\n",
        "print(\"Texto cifrado: \", traduzido)"
      ],
      "metadata": {
        "colab": {
          "base_uri": "https://localhost:8080/"
        },
        "id": "9NK6rCxcmx9E",
        "outputId": "92a67cb2-2489-413f-ed44-2898be2911a3"
      },
      "execution_count": null,
      "outputs": [
        {
          "output_type": "stream",
          "name": "stdout",
          "text": [
            "Texto cifrado:  .rehpic esrever nialpxe ot margorp si sihT\n"
          ]
        }
      ]
    },
    {
      "cell_type": "code",
      "source": [
        "### Algorithm of Caesar Cipher\n",
        "def encripta(texto, s):\n",
        "  resultado = ''\n",
        "\n",
        "  # transverse the plain text\n",
        "  for i in range(len(texto)):\n",
        "    char = texto[i]\n",
        "\n",
        "    # Encrypt uppercase characters in plain text\n",
        "    if (char.isupper()):\n",
        "      resultado += chr((ord(char) + s-65) % 26 + 65)\n",
        "\n",
        "    # Encrypt lowercase characters in plain text\n",
        "    else:\n",
        "      resultado += chr((ord(char) + s-97) % 26 + 97)\n",
        "\n",
        "  return resultado"
      ],
      "metadata": {
        "id": "SHU9mxS8nGHL"
      },
      "execution_count": null,
      "outputs": []
    },
    {
      "cell_type": "code",
      "source": [
        "# check the above function\n",
        "texto = \"CEASER CIPHER DEMO\"\n",
        "\n",
        "s = 4\n",
        "\n",
        "print(\"Plain text...: \" + texto)\n",
        "print(\"Shift pattern: \" + str(s))\n",
        "print(\"Cipher.......: \" + encripta(texto,s))"
      ],
      "metadata": {
        "colab": {
          "base_uri": "https://localhost:8080/"
        },
        "id": "D9v-U4QMoVdr",
        "outputId": "38522fc2-27ef-455f-8505-a17c3991b035"
      },
      "execution_count": null,
      "outputs": [
        {
          "output_type": "stream",
          "name": "stdout",
          "text": [
            "Plain text...: CEASER CIPHER DEMO\n",
            "Shift pattern: 4\n",
            "Cipher.......: GIEWIVrGMTLIVrHIQS\n"
          ]
        }
      ]
    },
    {
      "cell_type": "code",
      "source": [
        "### Encoding into base64\n",
        "import base64"
      ],
      "metadata": {
        "id": "ZZOKgRdYov4k"
      },
      "execution_count": null,
      "outputs": []
    },
    {
      "cell_type": "code",
      "source": [
        "encoded_data = base64.b64encode(b\"Encode this text\")"
      ],
      "metadata": {
        "id": "ArEXcrLaE_KD"
      },
      "execution_count": null,
      "outputs": []
    },
    {
      "cell_type": "code",
      "source": [
        "print(\"Encodede text with base 64 is\")\n",
        "print(encoded_data)"
      ],
      "metadata": {
        "colab": {
          "base_uri": "https://localhost:8080/"
        },
        "id": "FGnYPAbFFGNj",
        "outputId": "e935351c-d478-4fff-e730-ac563a422327"
      },
      "execution_count": null,
      "outputs": [
        {
          "output_type": "stream",
          "name": "stdout",
          "text": [
            "Encodede text with base 64 is\n",
            "b'RW5jb2RlIHRoaXMgdGV4dA=='\n"
          ]
        }
      ]
    },
    {
      "cell_type": "code",
      "source": [
        "data = base64.b64decode(encoded_data)\n",
        "data"
      ],
      "metadata": {
        "colab": {
          "base_uri": "https://localhost:8080/"
        },
        "id": "36uNhU56GAfD",
        "outputId": "28df8be8-25b6-41ea-f293-95530a470d42"
      },
      "execution_count": null,
      "outputs": [
        {
          "output_type": "execute_result",
          "data": {
            "text/plain": [
              "b'Encode this text'"
            ]
          },
          "metadata": {},
          "execution_count": 7
        }
      ]
    },
    {
      "cell_type": "code",
      "source": [
        "### One Time Padding\n",
        "!pip install onetimepad\n",
        "import onetimepad"
      ],
      "metadata": {
        "colab": {
          "base_uri": "https://localhost:8080/"
        },
        "id": "6ev1v0idGJmi",
        "outputId": "5d4f6fd1-cfc9-42d4-89d3-60c81b172c11"
      },
      "execution_count": null,
      "outputs": [
        {
          "output_type": "stream",
          "name": "stdout",
          "text": [
            "Looking in indexes: https://pypi.org/simple, https://us-python.pkg.dev/colab-wheels/public/simple/\n",
            "Collecting onetimepad\n",
            "  Downloading onetimepad-1.4.tar.gz (3.3 kB)\n",
            "Building wheels for collected packages: onetimepad\n",
            "  Building wheel for onetimepad (setup.py) ... \u001b[?25l\u001b[?25hdone\n",
            "  Created wheel for onetimepad: filename=onetimepad-1.4-py3-none-any.whl size=3898 sha256=f0f610a1384e7a80f0eb43377c69ffd2f81b50219bfc263eb93757a93262e86d\n",
            "  Stored in directory: /root/.cache/pip/wheels/1b/ae/14/ffcbab73ebe9e669acc6741ad0876263896a5f12c63eeb7eb0\n",
            "Successfully built onetimepad\n",
            "Installing collected packages: onetimepad\n",
            "Successfully installed onetimepad-1.4\n"
          ]
        }
      ]
    },
    {
      "cell_type": "code",
      "source": [
        "cipher = onetimepad.encrypt('One Time Cipher', 'random')"
      ],
      "metadata": {
        "id": "UVQ8ZujiIT4S"
      },
      "execution_count": null,
      "outputs": []
    },
    {
      "cell_type": "code",
      "source": [
        "print(cipher)"
      ],
      "metadata": {
        "colab": {
          "base_uri": "https://localhost:8080/"
        },
        "id": "8gHLYbIlIghq",
        "outputId": "a4a51d31-3c32-4e33-b737-662bb5b83a78"
      },
      "execution_count": null,
      "outputs": [
        {
          "output_type": "stream",
          "name": "stdout",
          "text": [
            "3d0f0b443b041f044e27061d1a041c\n"
          ]
        }
      ]
    },
    {
      "cell_type": "code",
      "source": [
        "msg = onetimepad.decrypt(cipher, 'random')"
      ],
      "metadata": {
        "id": "J09joqPDIlUT"
      },
      "execution_count": null,
      "outputs": []
    },
    {
      "cell_type": "code",
      "source": [
        "print(msg)"
      ],
      "metadata": {
        "id": "EbevQbrcIqjb",
        "outputId": "eb11b6a1-d5e0-4581-9991-a8f8008f843a",
        "colab": {
          "base_uri": "https://localhost:8080/"
        }
      },
      "execution_count": null,
      "outputs": [
        {
          "output_type": "stream",
          "name": "stdout",
          "text": [
            "One Time Cipher\n"
          ]
        }
      ]
    },
    {
      "cell_type": "code",
      "source": [],
      "metadata": {
        "id": "KblPcyL7Irpa"
      },
      "execution_count": null,
      "outputs": []
    }
  ]
}