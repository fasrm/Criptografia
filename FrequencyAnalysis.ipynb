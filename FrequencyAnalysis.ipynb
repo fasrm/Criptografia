{
  "nbformat": 4,
  "nbformat_minor": 0,
  "metadata": {
    "colab": {
      "provenance": []
    },
    "kernelspec": {
      "name": "python3",
      "display_name": "Python 3"
    },
    "language_info": {
      "name": "python"
    }
  },
  "cells": [
    {
      "cell_type": "code",
      "execution_count": 22,
      "metadata": {
        "id": "i2UDer_zY_9v"
      },
      "outputs": [],
      "source": [
        "cipher = \"\"\"lrvmnir bpr sumvbwvr jx bpr lmiwv yjeryrkbi jx qmbm wi\n",
        "bpr xjvni mkd ymibrut jx irhx wi bpr riirkvr jx\n",
        "ymbinlmtmipw utn qmumbr dj w ipmhh but bj rhnvwdmbr bpr\n",
        "yjeryrkbi jx bpr qmbm mvvjudwko bj yt wkbrusurbmbwjk\n",
        "lmird jk xjubt trmui jx ibndt\n",
        "  wb wi kjb mk rmit bmiq bj rashmwk rmvp yjeryrkb mkd wbi\n",
        "iwokwxwvmkvr mkd ijyr ynib urymwk nkrashmwkrd bj ower m\n",
        "vjyshrbr rashmkmbwjk jkr cjnhd pmer bj lr fnmhwxwrd mkd\n",
        "wkiswurd bj invp mk rabrkb bpmb pr vjnhd urmvp bpr ibmbr\n",
        "jx rkhwopbrkrd ywkd vmsmlhr jx urvjokwgwko ijnkdhrii\n",
        "ijnkd mkd ipmsrhrii ipmsr w dj kjb drry ytirhx bpr xwkmh\n",
        "mnbpjuwbt lnb yt rasruwrkvr cwbp qmbm pmi hrxb kj djnlb\n",
        "bpmb bpr xjhhjcwko wi bpr sujsru msshwvmbwjk mkd\n",
        "wkbrusurbmbwjk w jxxru yt bprjuwri wk bpr pjsr bpmb bpr\n",
        "riirkvr jx jqwkmcmk qmumbr cwhh urymwk wkbmvb\"\"\"\n",
        "\n",
        "#print(cipher)"
      ]
    },
    {
      "cell_type": "code",
      "source": [
        "alphabet = \"abcdefghijklmnopqrstuvwxyz\"\n",
        "#print(alphabet)"
      ],
      "metadata": {
        "id": "Ke4aNtxjZFBS"
      },
      "execution_count": 26,
      "outputs": []
    },
    {
      "cell_type": "code",
      "source": [
        "# English alphabet\n",
        "letter_freq = {'a': 0.0817, 'b': 0.0150, 'c': 0.0278, 'd': 0.0425, 'e': 0.1270, 'f': 0.0223,\n",
        "               'g': 0.0202, 'h': 0.0609, 'i': 0.0697, 'j': 0.0015, 'k': 0.0077, 'l': 0.0403,\n",
        "               'm': 0.0241, 'n': 0.0675, 'o': 0.0751, 'p': 0.0193, 'q': 0.0010, 'r': 0.0599,\n",
        "               's': 0.0633, 't': 0.0906, 'u': 0.0276, 'v': 0.0098, 'w': 0.0236, 'x': 0.0015,\n",
        "               'y': 0.0197, 'z': 0.0007}\n",
        "#print(letter_freq)"
      ],
      "metadata": {
        "id": "MQ-TQ6iSZK1J"
      },
      "execution_count": 24,
      "outputs": []
    },
    {
      "cell_type": "code",
      "source": [
        "freq = {}\n",
        "for c in alphabet:\n",
        "    freq[c] = 0\n",
        "    \n",
        "count = 0\n",
        "for c in cipher:\n",
        "    if c in freq:\n",
        "        freq[c] += 1\n",
        "        count += 1\n",
        " \n",
        "for c in freq:\n",
        "    freq[c] = round(freq[c]/count, 4)\n",
        "    \n",
        "new_line_count = 0    \n",
        "for c in freq:\n",
        "    print(c, ':', freq[c], ' ', end='')\n",
        "    if new_line_count % 3 == 2:\n",
        "      print()\n",
        "    new_line_count += 1"
      ],
      "metadata": {
        "colab": {
          "base_uri": "https://localhost:8080/"
        },
        "id": "Nwk36iOgagly",
        "outputId": "3b8e39bb-dac4-43ef-9787-4dd21e1b1579"
      },
      "execution_count": 29,
      "outputs": [
        {
          "output_type": "stream",
          "name": "stdout",
          "text": [
            "a : 0.0077  b : 0.1053  c : 0.0077  \n",
            "d : 0.0356  e : 0.0077  f : 0.0015  \n",
            "g : 0.0015  h : 0.0356  i : 0.0635  \n",
            "j : 0.0743  k : 0.0759  l : 0.0124  \n",
            "m : 0.096  n : 0.0263  o : 0.0108  \n",
            "p : 0.0464  q : 0.0108  r : 0.13  \n",
            "s : 0.0263  t : 0.0201  u : 0.0372  \n",
            "v : 0.0341  w : 0.0728  x : 0.031  \n",
            "y : 0.0294  z : 0.0  "
          ]
        }
      ]
    },
    {
      "cell_type": "code",
      "source": [
        "class Attack:\n",
        "  def __init__(self):\n",
        "    self.alphabet = \"abcdefghijklmnopqrstuvwxyz\"\n",
        "    self.freq = {}\n",
        "\n",
        "  def calculate_freq(self, cipher):\n",
        "    for c in self.alphabet:\n",
        "      self.freq[c] = 0\n",
        "\n",
        "      letter_count = 0\n",
        "      for c in cipher:\n",
        "        if c in self.freq:\n",
        "            self.freq[c] += 1\n",
        "            letter_count += 1\n",
        "\n",
        "      for c in self.freq:\n",
        "        self.freq[c] = round(self.freq[c]/letter_count, 4)\n",
        "\n",
        "  def print_freq(self):\n",
        "    new_line_count = 0    \n",
        "    for c in self.freq:\n",
        "        print(c, ':', self.freq[c], ' ', end='')\n",
        "        if new_line_count % 3 == 2:\n",
        "          print()\n",
        "        new_line_count += 1\n",
        "\n",
        "\n"
      ],
      "metadata": {
        "id": "R28OpUYyby2h"
      },
      "execution_count": 31,
      "outputs": []
    },
    {
      "cell_type": "code",
      "source": [
        "attack = Attack()\n",
        "attack.calculate_freq(cipher)\n",
        "attack.print_freq()"
      ],
      "metadata": {
        "colab": {
          "base_uri": "https://localhost:8080/"
        },
        "id": "u8tDv9gJgkSl",
        "outputId": "09c32555-3dbe-487a-e3de-6bff1f462e5f"
      },
      "execution_count": 32,
      "outputs": [
        {
          "output_type": "stream",
          "name": "stdout",
          "text": [
            "a : 0.0078  b : 0.1054  c : 0.0078  \n",
            "d : 0.0357  e : 0.0078  f : 0.0016  \n",
            "g : 0.0016  h : 0.0357  i : 0.0636  \n",
            "j : 0.0744  k : 0.076  l : 0.0124  \n",
            "m : 0.0961  n : 0.0264  o : 0.0109  \n",
            "p : 0.0465  q : 0.0109  r : 0.1302  \n",
            "s : 0.0264  t : 0.0202  u : 0.0372  \n",
            "v : 0.0341  w : 0.0729  x : 0.031  \n",
            "y : 0.0295  z : 0.0  "
          ]
        }
      ]
    },
    {
      "cell_type": "code",
      "source": [
        "import operator\n",
        "import sys\n",
        "\n",
        "class Attack:\n",
        "  def __init__(self):\n",
        "    self.alphabet = \"abcdefghijklmnopqrstuvwxyz\"\n",
        "    self.plain_chars_left = \"abcdefghijklmnopqrstuvwxyz\"\n",
        "    self.cipher_chars_left = \"abcdefghijklmnopqrstuvwxyz\"\n",
        "    self.freq = {}\n",
        "    self.key = {}\n",
        "    self.freq_eng = {'a': 0.0817, 'b': 0.0150, 'c': 0.0278, 'd': 0.0425, 'e': 0.1270, 'f': 0.0223,\n",
        "               'g': 0.0202, 'h': 0.0609, 'i': 0.0697, 'j': 0.0015, 'k': 0.0077, 'l': 0.0403,\n",
        "               'm': 0.0241, 'n': 0.0675, 'o': 0.0751, 'p': 0.0193, 'q': 0.0010, 'r': 0.0599,\n",
        "               's': 0.0633, 't': 0.0906, 'u': 0.0276, 'v': 0.0098, 'w': 0.0236, 'x': 0.0015,\n",
        "               'y': 0.0197, 'z': 0.0007}\n",
        "    self.mappings = {}\n",
        "\n",
        "  def calculate_freq(self, cipher):\n",
        "    for c in self.alphabet:\n",
        "      self.freq[c] = 0\n",
        "\n",
        "      letter_count = 0\n",
        "      for c in cipher:\n",
        "        if c in self.freq:\n",
        "            self.freq[c] += 1\n",
        "            letter_count += 1\n",
        "\n",
        "      for c in self.freq:\n",
        "        self.freq[c] = round(self.freq[c]/letter_count, 4)\n",
        "\n",
        "  def print_freq(self):\n",
        "    new_line_count = 0    \n",
        "    for c in self.freq:\n",
        "        print(c, ':', self.freq[c], ' ', end='')\n",
        "        if new_line_count % 3 == 2:\n",
        "          print()\n",
        "        new_line_count += 1\n",
        "\n",
        "  def calculate_matches(self):\n",
        "    for cipher_char in self.alphabet:\n",
        "      map = {}\n",
        "      for plain_char in self.alphabet:\n",
        "        map[plain_char] = round(abs(self.freq[cipher_char] - self.freq_eng[plain_char]), 4)\n",
        "      self.mappings[cipher_char] = sorted(map.items(), key=operator.itemgetter(1))\n",
        "\n",
        "  def set_key_mapping(self, cipher_char, plain_char):\n",
        "    if cipher_char not in self.cipher_chars_left or plain_char not in self.plain_chars_left:\n",
        "      print(\"ERROR: key mapping error\", cipher_char, plain_char)\n",
        "      sys.exit(-1)\n",
        "    self.key[cipher_char] = plain_char\n",
        "    self.plain_chars_left = self.plain_chars_left.replace(plain_char, '')\n",
        "    self.cipher_chars_left = self.cipher_chars_left.replace(cipher_char, '')\n",
        "\n",
        "  def guess_key(self):\n",
        "    for cipher_char in self.cipher_chars_left:\n",
        "      for plain_char, diff in self.mappings[cipher_char]:\n",
        "        if plain_char in self.plain_chars_left:\n",
        "          self.key[cipher_char] = plain_char\n",
        "          self.plain_chars_left = self.plain_chars_left.replace(plain_char, '')\n",
        "          break\n",
        "    return key\n",
        "\n",
        "  def get_key(self):\n",
        "      return self.key\n",
        "\n",
        "\n",
        "def decrypt(key, cipher):\n",
        "  message = \"\"\n",
        "  for c in cipher:\n",
        "    if c in key:\n",
        "      message += key[c]\n",
        "    else:\n",
        "      message += c\n",
        "  return message\n",
        "\n",
        "\n",
        "attack = Attack()\n",
        "attack.calculate_freq(cipher)\n",
        "attack.print_freq()\n",
        "attack.calculate_matches()\n",
        "\n",
        "attack.set_key_mapping('a', 'x')\n",
        "attack.set_key_mapping('d', 'd')\n",
        "attack.set_key_mapping('e', 'v')\n",
        "attack.set_key_mapping('m', 'a')\n",
        "attack.set_key_mapping('p', 'h')\n",
        "attack.set_key_mapping('q', 'k')\n",
        "attack.set_key_mapping('r', 'e')\n",
        "attack.set_key_mapping('s', 'p')\n",
        "attack.set_key_mapping('t', 'y')\n",
        "attack.set_key_mapping('u', 'r')\n",
        "attack.set_key_mapping('v', 'c')\n",
        "attack.set_key_mapping('w', 'i')\n",
        "attack.set_key_mapping('x', 'f')\n",
        "attack.set_key_mapping('y', 'm')\n",
        "#attack.set_key_mapping('d', 'e')\n",
        "\n",
        "\n",
        "attack.guess_key()\n",
        "key = attack.get_key()\n",
        "print()\n",
        "print(key)\n",
        "print()\n",
        "message = decrypt(key, cipher)\n",
        "message_lines = message.splitlines()\n",
        "cipher_lines = cipher.splitlines()\n",
        "for i in range(len(message_lines)):\n",
        "  print('P: ', message_lines[i])\n",
        "  print('C: ', cipher_lines[i])\n",
        "\n",
        "#print(message)\n",
        "#print()\n",
        "\n",
        "\n",
        "\n",
        "\n",
        "\n",
        "'''\n",
        "print()\n",
        "for c in attack.mappings:\n",
        "  print(c, attack.mappings[c])\n",
        "'''\n"
      ],
      "metadata": {
        "colab": {
          "base_uri": "https://localhost:8080/",
          "height": 767
        },
        "id": "EP5voGiKglYw",
        "outputId": "5e44848c-7c75-405e-e139-a4a62d1bc601"
      },
      "execution_count": 62,
      "outputs": [
        {
          "output_type": "stream",
          "name": "stdout",
          "text": [
            "a : 0.0078  b : 0.1054  c : 0.0078  \n",
            "d : 0.0357  e : 0.0078  f : 0.0016  \n",
            "g : 0.0016  h : 0.0357  i : 0.0636  \n",
            "j : 0.0744  k : 0.076  l : 0.0124  \n",
            "m : 0.0961  n : 0.0264  o : 0.0109  \n",
            "p : 0.0465  q : 0.0109  r : 0.1302  \n",
            "s : 0.0264  t : 0.0202  u : 0.0372  \n",
            "v : 0.0341  w : 0.0729  x : 0.031  \n",
            "y : 0.0295  z : 0.0  \n",
            "{'a': 'x', 'd': 'd', 'e': 'v', 'm': 'a', 'p': 'h', 'q': 'k', 'r': 'e', 's': 'p', 't': 'y', 'u': 'r', 'v': 'c', 'w': 'i', 'x': 'f', 'y': 'm', 'b': 't', 'c': 'j', 'f': 'q', 'g': 'z', 'h': 'l', 'i': 's', 'j': 'o', 'k': 'n', 'l': 'b', 'n': 'u', 'o': 'g', 'z': 'w'}\n",
            "\n",
            "P:  because the practice of the basic movements of kata is\n",
            "C:  lrvmnir bpr sumvbwvr jx bpr lmiwv yjeryrkbi jx qmbm wi\n",
            "P:  the focus and mastery of self is the essence of\n",
            "C:  bpr xjvni mkd ymibrut jx irhx wi bpr riirkvr jx\n",
            "P:  matsubayashi ryu karate do i shall try to elucidate the\n",
            "C:  ymbinlmtmipw utn qmumbr dj w ipmhh but bj rhnvwdmbr bpr\n",
            "P:  movements of the kata according to my interpretation\n",
            "C:  yjeryrkbi jx bpr qmbm mvvjudwko bj yt wkbrusurbmbwjk\n",
            "P:  based on forty years of study\n",
            "C:  lmird jk xjubt trmui jx ibndt\n",
            "P:    it is not an easy task to explain each movement and its\n",
            "C:    wb wi kjb mk rmit bmiq bj rashmwk rmvp yjeryrkb mkd wbi\n",
            "P:  significance and some must remain unexplained to give a\n",
            "C:  iwokwxwvmkvr mkd ijyr ynib urymwk nkrashmwkrd bj ower m\n",
            "P:  complete explanation one jould have to be qualified and\n",
            "C:  vjyshrbr rashmkmbwjk jkr cjnhd pmer bj lr fnmhwxwrd mkd\n",
            "P:  inspired to such an extent that he could reach the state\n",
            "C:  wkiswurd bj invp mk rabrkb bpmb pr vjnhd urmvp bpr ibmbr\n",
            "P:  of enlightened mind capable of recognizing soundless\n",
            "C:  jx rkhwopbrkrd ywkd vmsmlhr jx urvjokwgwko ijnkdhrii\n",
            "P:  sound and shapeless shape i do not deem myself the final\n",
            "C:  ijnkd mkd ipmsrhrii ipmsr w dj kjb drry ytirhx bpr xwkmh\n",
            "P:  authority but my experience jith kata has left no doubt\n",
            "C:  mnbpjuwbt lnb yt rasruwrkvr cwbp qmbm pmi hrxb kj djnlb\n",
            "P:  that the follojing is the proper application and\n",
            "C:  bpmb bpr xjhhjcwko wi bpr sujsru msshwvmbwjk mkd\n",
            "P:  interpretation i offer my theories in the hope that the\n",
            "C:  wkbrusurbmbwjk w jxxru yt bprjuwri wk bpr pjsr bpmb bpr\n",
            "P:  essence of okinajan karate jill remain intact\n",
            "C:  riirkvr jx jqwkmcmk qmumbr cwhh urymwk wkbmvb\n"
          ]
        },
        {
          "output_type": "execute_result",
          "data": {
            "text/plain": [
              "'\\nprint()\\nfor c in attack.mappings:\\n  print(c, attack.mappings[c])\\n'"
            ],
            "application/vnd.google.colaboratory.intrinsic+json": {
              "type": "string"
            }
          },
          "metadata": {},
          "execution_count": 62
        }
      ]
    },
    {
      "cell_type": "code",
      "source": [],
      "metadata": {
        "id": "6b8Oxyt9jHxL"
      },
      "execution_count": null,
      "outputs": []
    }
  ]
}