{
  "nbformat": 4,
  "nbformat_minor": 0,
  "metadata": {
    "colab": {
      "provenance": []
    },
    "kernelspec": {
      "name": "python3",
      "display_name": "Python 3"
    },
    "language_info": {
      "name": "python"
    }
  },
  "cells": [
    {
      "cell_type": "code",
      "execution_count": 2,
      "metadata": {
        "id": "TKGmVtiCuXxb"
      },
      "outputs": [],
      "source": [
        "### What is a Hash Function?\n",
        "## The hash function can take any size of input and any type of input, it doesn't have to be readable text like this. -> Hash Function -> Fixed size binary!\n",
        "\n",
        "## Properties of  a Hash Function\n",
        "## 1. It is an one-way deterministic function\n",
        "## 2. The output is dependent on all input bits\n",
        "## 3. Output is uniformly distributed\n",
        "## 4. \"Impossible\" (difficult) make a collision\n",
        "\n",
        "## Use of Hash Functions\n",
        "## 1. Digital signature\n",
        "## 2. Shadow files (passwords)\n",
        "## 3. HMAC\n",
        "## 4. Make deterministic identifiers\n",
        "\n",
        "## What is HMAC?\n",
        "## HMAC (sometimes expanded as either keyed-hash message authentication code or hash-based message authentication code)\n",
        "## is a specific type of message authentication code (MAC) involving a cryptographic hash function and a secret cryptographic key. \n",
        "## As with any MAC, it may be used to simultaneously verify both the data integrity and authenticity of a message.\n",
        "## HMAC can provide authentication using a shared secret instead of using digital signatures with asymmetric cryptography. \n",
        "## It trades off the need for a complex public key infrastructure by delegating the key exchange to the communicating parties, \n",
        "## who are responsible for establishing and using a trusted channel to agree on the key prior to communication.\n"
      ]
    },
    {
      "cell_type": "code",
      "source": [
        "import hashlib"
      ],
      "metadata": {
        "id": "QfjSl4ny1yOj"
      },
      "execution_count": 3,
      "outputs": []
    },
    {
      "cell_type": "code",
      "source": [
        "def modify(m):\n",
        "  l = list(m)\n",
        "  l[0] = l[0] ^ 1\n",
        "  return bytes(l)"
      ],
      "metadata": {
        "id": "2q8Skzz62g7z"
      },
      "execution_count": 5,
      "outputs": []
    },
    {
      "cell_type": "code",
      "source": [
        "m = \"This is the hash value message\".encode()\n",
        "\n",
        "sha256 = hashlib.sha256()\n",
        "sha256.update(m)\n",
        "d = sha256.digest()\n",
        "\n",
        "print(d)"
      ],
      "metadata": {
        "colab": {
          "base_uri": "https://localhost:8080/"
        },
        "id": "E2rw2-kF18fM",
        "outputId": "bac4457c-70c2-45ac-fe11-a24cab2df067"
      },
      "execution_count": 4,
      "outputs": [
        {
          "output_type": "stream",
          "name": "stdout",
          "text": [
            "b\"g\\xf2\\x05\\x13\\xd6\\x88\\xef\\xf8WX\\xe4\\x7f9\\x03\\xdeJ\\xbf&\\x06\\x8f\\x94'\\xf6\\xf0\\x0c\\x0c\\xd4\\x7fu\\x0b@\\xfe\"\n"
          ]
        }
      ]
    },
    {
      "cell_type": "code",
      "source": [
        "m = modify(m)\n",
        "print(m)"
      ],
      "metadata": {
        "colab": {
          "base_uri": "https://localhost:8080/"
        },
        "id": "xSAv1yQy2KA7",
        "outputId": "d2f6f45f-def8-474d-c8e8-21b0cc5f3e22"
      },
      "execution_count": 6,
      "outputs": [
        {
          "output_type": "stream",
          "name": "stdout",
          "text": [
            "b'Uhis is the hash value message'\n"
          ]
        }
      ]
    },
    {
      "cell_type": "code",
      "source": [
        "sha256 = hashlib.sha256()\n",
        "sha256.update(m)\n",
        "d = sha256.digest()\n",
        "\n",
        "print(d)"
      ],
      "metadata": {
        "colab": {
          "base_uri": "https://localhost:8080/"
        },
        "id": "sBOyJBY02N90",
        "outputId": "6ac04561-b174-49e0-9bbd-f9e306553de2"
      },
      "execution_count": 7,
      "outputs": [
        {
          "output_type": "stream",
          "name": "stdout",
          "text": [
            "b'\\xeb\\x88\\x94hg\\xaex\\xdc\\x16\\xd0p\\x14\\x0bC\\xfb\\xe0\\xa2\\xcd3\\x1d\\x83\\x14\\xe4cg\\xd7;\\xab\\x90S\\xc6\\x8b'\n"
          ]
        }
      ]
    },
    {
      "cell_type": "code",
      "source": [
        "## How Digital Signatures works (uses hash functions) and implementation of it.\n",
        "## Digital Signature\n",
        "# These are Alice's RSA keys\n",
        "# Public key (e,n): 5 170171\n",
        "# Secret key (d) 9677\n",
        "n = 170171\n",
        "e = 5\n",
        "d = 9677\n",
        "\n",
        "# This is the message that Alice wants to sign and send to Bob\n",
        "message = \"Bob you are awesome\".encode()\n",
        "\n",
        "# Step 1: hash the message\n",
        "sha256 = hashlib.sha256()\n",
        "sha256.update(message)\n",
        "h = sha256.digest()\n",
        "h = int.from_bytes(h, \"big\") % n\n",
        "#h = int.from_bytes(h, \"big\")\n",
        "print(\"Hash value:\", h)\n",
        "\n",
        "\n"
      ],
      "metadata": {
        "colab": {
          "base_uri": "https://localhost:8080/"
        },
        "id": "HSzxgarS3B47",
        "outputId": "138cf8e8-60c6-4a01-8449-0f8f0433e0ba"
      },
      "execution_count": 17,
      "outputs": [
        {
          "output_type": "stream",
          "name": "stdout",
          "text": [
            "Hash value: 30570\n"
          ]
        }
      ]
    },
    {
      "cell_type": "code",
      "source": [
        "# Step 2: decrypt the hash value (use secret exponent)\n",
        "sign = h**d % n\n",
        "\n",
        "# Step 3: send messahe with signature to Bob\n",
        "print(message, sign)"
      ],
      "metadata": {
        "colab": {
          "base_uri": "https://localhost:8080/"
        },
        "id": "k__oiWxJ4evG",
        "outputId": "cf0dc7be-12e3-46f3-cd7f-d7b670d95b06"
      },
      "execution_count": 18,
      "outputs": [
        {
          "output_type": "stream",
          "name": "stdout",
          "text": [
            "b'Bob you are awesome' 43738\n"
          ]
        }
      ]
    },
    {
      "cell_type": "code",
      "source": [
        "# Bob verifying the signature\n",
        "# Step 1: calculate the hash value of the message\n",
        "sha256 = hashlib.sha256()\n",
        "sha256.update(message)\n",
        "h = sha256.digest()\n",
        "h = int.from_bytes(h, \"big\") % n\n",
        "#h = int.from_bytes(h, \"big\")\n",
        "print(\"Hash value:\", h)\n",
        "\n",
        "# Step 2: Verify the signature\n",
        "verification = sign**e % n\n",
        "print(\"Verification value:\", verification)"
      ],
      "metadata": {
        "colab": {
          "base_uri": "https://localhost:8080/"
        },
        "id": "VHnJ2tZ95R58",
        "outputId": "2e00766a-674a-44bf-f8cd-ff075c7c5dc2"
      },
      "execution_count": 19,
      "outputs": [
        {
          "output_type": "stream",
          "name": "stdout",
          "text": [
            "Hash value: 30570\n",
            "Verification value: 30570\n"
          ]
        }
      ]
    },
    {
      "cell_type": "code",
      "source": [
        "## Eve trying to modify a signed message - will Bob figure it out?\n",
        "# This is Eve being evil and modifies the message\n",
        "message = modify(message)\n",
        "print(message)"
      ],
      "metadata": {
        "colab": {
          "base_uri": "https://localhost:8080/"
        },
        "id": "VxrgOisI5xOM",
        "outputId": "9948c861-c7ee-4583-a0a2-3c9371d53257"
      },
      "execution_count": 20,
      "outputs": [
        {
          "output_type": "stream",
          "name": "stdout",
          "text": [
            "b'Cob you are awesome'\n"
          ]
        }
      ]
    },
    {
      "cell_type": "code",
      "source": [
        "## How Passwords are Verified - with real example from Mac\n",
        "# ShadowFile.xml\n",
        "# PBKDF2: PBKDF1 and PBKDF2 (Password-Based Key Derivation Function 1 and 2) \n",
        "# are key derivation functions with a sliding computational cost, used to reduce \n",
        "# vulnerabilities of brute-force attacks\n",
        "\n",
        "import hashlib\n",
        "import base64\n",
        "\n",
        "iterations = 45454\n",
        "salt = base64.b64decode(\"6VuJKkHVTdDelbNMPBxzw7INW2NkYlR/LoW4OL7kVAI=\".encode())\n",
        "#SALTED-SHA512-PBKDF2\n",
        "\n",
        "password = \"password\".encode()\n",
        "print(type(password))\n",
        "\n",
        "value = hashlib.pbkdf2_hmac(\"sha512\",password,salt,iterations,dklen=126)\n",
        "print(base64.b64encode(value))"
      ],
      "metadata": {
        "colab": {
          "base_uri": "https://localhost:8080/"
        },
        "id": "vicmmnRY6YDV",
        "outputId": "e37d251b-aca0-4259-d549-11647bba132f"
      },
      "execution_count": 26,
      "outputs": [
        {
          "output_type": "stream",
          "name": "stdout",
          "text": [
            "<class 'bytes'>\n",
            "b'1meJW2W6Zugz3rKm/n0yysV+5kvTccA7EuGejmyIX8X/MFoPxmmbCf3BE62h6wGyWk/TXR7pvXKgjrWjZyI+Fc3aKfv1LNQ0/Qrod3lVJcWd9V6Ygt+MYU8Eptv3uwDcYf6Z5UuF+Hg67rpoDAWhJrC1PEfL3vcN7IoBqC5N'\n"
          ]
        }
      ]
    },
    {
      "cell_type": "code",
      "source": [
        "## Why use Salt and shown by implementation in Python\n",
        "iterations = 45454\n",
        "salt = base64.b64decode(\"6VuJKkHVTdDelbNMPBxzw7INW2NkYlR/LoW4OL7kVAI=\".encode())\n",
        "#salt = \"\".encode()\n",
        "validation = \"SALTED-SHA512-PBKDF2\"\n",
        "\n",
        "password = \"password\".encode()\n",
        "\n",
        "\n",
        "value = hashlib.pbkdf2_hmac(\"sha512\",password,salt,iterations,dklen=126)\n",
        "entropy = base64.b64encode(value)\n",
        "print(\"Alice\", validation, salt, iterations, entropy)\n",
        "\n",
        "salt = \"666\".encode()\n",
        "password = \"password\".encode()\n",
        "value = hashlib.pbkdf2_hmac(\"sha512\",password,salt,iterations,dklen=126)\n",
        "entropy = base64.b64encode(value)\n",
        "print(\"Bob\", validation, salt, iterations, entropy)"
      ],
      "metadata": {
        "colab": {
          "base_uri": "https://localhost:8080/"
        },
        "id": "gQpJ8FHU8W02",
        "outputId": "4fcc2e18-2102-4b4c-f916-e4861cd6deb3"
      },
      "execution_count": 32,
      "outputs": [
        {
          "output_type": "stream",
          "name": "stdout",
          "text": [
            "Alice SALTED-SHA512-PBKDF2 b'\\xe9[\\x89*A\\xd5M\\xd0\\xde\\x95\\xb3L<\\x1cs\\xc3\\xb2\\r[cdbT\\x7f.\\x85\\xb88\\xbe\\xe4T\\x02' 45454 b'1meJW2W6Zugz3rKm/n0yysV+5kvTccA7EuGejmyIX8X/MFoPxmmbCf3BE62h6wGyWk/TXR7pvXKgjrWjZyI+Fc3aKfv1LNQ0/Qrod3lVJcWd9V6Ygt+MYU8Eptv3uwDcYf6Z5UuF+Hg67rpoDAWhJrC1PEfL3vcN7IoBqC5N'\n",
            "Bob SALTED-SHA512-PBKDF2 b'666' 45454 b'3DFPsnKGVVlRLNvpChoIPObu3sJy9TkpmagjOVHioSS59Rx1/rzbXNteXqG2IRsCPFFOvJa1sPbMpeYCLpXBnuT0evUL6DGYrJJNY1U3pnl18XvsMp47jvxBg+iIc95CPzg9NtOI4SKOxrCin9DlQwnJErCURwU2OgUjn207'\n"
          ]
        }
      ]
    },
    {
      "cell_type": "code",
      "source": [
        "value = hashlib.pbkdf2_hmac(\"sha512\",password,salt,iterations,dklen=126)\n",
        "entropy = base64.b64encode(value)\n",
        "print(entropy)"
      ],
      "metadata": {
        "colab": {
          "base_uri": "https://localhost:8080/"
        },
        "id": "3kUJjHwY-53M",
        "outputId": "5461289e-65cc-4a6d-9195-994fedaf5dc1"
      },
      "execution_count": 33,
      "outputs": [
        {
          "output_type": "stream",
          "name": "stdout",
          "text": [
            "b'3DFPsnKGVVlRLNvpChoIPObu3sJy9TkpmagjOVHioSS59Rx1/rzbXNteXqG2IRsCPFFOvJa1sPbMpeYCLpXBnuT0evUL6DGYrJJNY1U3pnl18XvsMp47jvxBg+iIc95CPzg9NtOI4SKOxrCin9DlQwnJErCURwU2OgUjn207'\n"
          ]
        }
      ]
    },
    {
      "cell_type": "code",
      "source": [
        "## Why iterate over hash function and demonstrated by implementation in Python\n",
        "\n",
        "def guess_password(salt, iterations, entropy):\n",
        "  alphabet = \"abcdefghijklmnopqrstuvwxyz\"\n",
        "  for c1 in alphabet:\n",
        "    for c2 in alphabet:\n",
        "      password = str.encode(c1+c2)\n",
        "      value = hashlib.pbkdf2_hmac(\"sha512\",password,salt,iterations,dklen=128)\n",
        "      if value == entropy:\n",
        "        return password\n",
        "  return \"\".encode()\n",
        "\n",
        "iterations = 45454 # 1 # 45454\n",
        "salt = base64.b64decode(\"6VuJKkHVTdDelbNMPBxzw7INW2NkYlR/LoW4OL7kVAI=\".encode())\n",
        "validation = \"SALTED-SHA512-PBKDF2\"\n",
        "entropy = \"3DFPsnKGVVlRLNvpChoIPObu3sJy9TkpmagjOVHioSS59Rx1/rzbXNteXqG2IRsCPFFOvJa1sPbMpeYCLpXBnuT0evUL6DGYrJJNY1U3pnl18XvsMp47jvxBg+iIc95CPzg9NtOI4SKOxrCin9DlQwnJErCURwU2OgUjn207\"\n",
        "\n",
        "password = \"??\".encode()\n",
        "\n",
        "password = guess_password(salt, iterations, entropy)\n",
        "print(password)\n",
        "value = base64.b64encode(hashlib.pbkdf2_hmac(\"sha512\", password, salt, iterations, dklen=128))\n",
        "print(value)\n",
        "print(entropy)"
      ],
      "metadata": {
        "colab": {
          "base_uri": "https://localhost:8080/"
        },
        "id": "pnpdvKF69HzM",
        "outputId": "60a2ad39-cb0f-4f73-cc07-751ec7717682"
      },
      "execution_count": 40,
      "outputs": [
        {
          "output_type": "stream",
          "name": "stdout",
          "text": [
            "b''\n",
            "b'eC5eeAhzcO/Og6bueVy4+v0I611CBz2rCPziTbsCiNVR+qulpqM5DYzn1HG8ox2jgwmmnVvdFe2ss9qfmxa0uc4+Q+nsHxaN4l2mfTR0GuDDEOSsko8COkw8UQMfzjcky1WdHM+/KJmKthUJBkEHOxpmws/SlzMPktmt8SAZ0Vo='\n",
            "3DFPsnKGVVlRLNvpChoIPObu3sJy9TkpmagjOVHioSS59Rx1/rzbXNteXqG2IRsCPFFOvJa1sPbMpeYCLpXBnuT0evUL6DGYrJJNY1U3pnl18XvsMp47jvxBg+iIc95CPzg9NtOI4SKOxrCin9DlQwnJErCURwU2OgUjn207\n"
          ]
        }
      ]
    },
    {
      "cell_type": "code",
      "source": [],
      "metadata": {
        "id": "Qv-jJT8I_QWT"
      },
      "execution_count": null,
      "outputs": []
    }
  ]
}