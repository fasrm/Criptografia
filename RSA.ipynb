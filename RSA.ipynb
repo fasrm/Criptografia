{
  "nbformat": 4,
  "nbformat_minor": 0,
  "metadata": {
    "colab": {
      "provenance": []
    },
    "kernelspec": {
      "name": "python3",
      "display_name": "Python 3"
    },
    "language_info": {
      "name": "python"
    }
  },
  "cells": [
    {
      "cell_type": "code",
      "execution_count": 26,
      "metadata": {
        "id": "UjB-1T44VEYo"
      },
      "outputs": [],
      "source": [
        "import math\n",
        "import random"
      ]
    },
    {
      "cell_type": "code",
      "source": [
        "def is_prime(p):\n",
        "  for i in range(2, math.isqrt(p)):\n",
        "    if p % i == 0:\n",
        "      return False\n",
        "  return True\n",
        "\n",
        "def get_prime(size):\n",
        "  while True:\n",
        "    p = random.randrange(size, 2*size)\n",
        "    if is_prime(p):\n",
        "      return p\n",
        "\n",
        "def lcm(a, b):\n",
        "  return a*b//math.gcd(a, b)\n",
        "\n",
        "def get_e(lambda_n):\n",
        "  for e in range(2, lambda_n):\n",
        "    if math.gcd(e, lambda_n) == 1:\n",
        "      return e\n",
        "  return False\n",
        "\n",
        "def get_d(e, lambda_n):\n",
        "  for d in range(2, lambda_n):\n",
        "    if d*e % lambda_n == 1:\n",
        "      return d\n",
        "  return False\n",
        "\n",
        "def factor(n):\n",
        "  for p in range(2, n):\n",
        "    if n % p ==0:\n",
        "      return p, n//p"
      ],
      "metadata": {
        "id": "NvQbbJjQXdNs"
      },
      "execution_count": 27,
      "outputs": []
    },
    {
      "cell_type": "code",
      "source": [
        "# Key generation done by Alice (secret)\n",
        "# Step 1: Generate two distinct primes\n",
        "size = 300\n",
        "p = get_prime(size)\n",
        "q = get_prime(size)\n",
        "print(\"Generated primes: \", p, q)"
      ],
      "metadata": {
        "colab": {
          "base_uri": "https://localhost:8080/"
        },
        "id": "i7mZDgcSX9FJ",
        "outputId": "5f3fe9ae-e66b-4642-bdcf-2adee0aa99dc"
      },
      "execution_count": 28,
      "outputs": [
        {
          "output_type": "stream",
          "name": "stdout",
          "text": [
            "Generated primes:  463 593\n"
          ]
        }
      ]
    },
    {
      "cell_type": "code",
      "source": [
        "# Step 2: Compute n = p*q\n",
        "n = p*q\n",
        "print(\"Modulus n:\", n)"
      ],
      "metadata": {
        "colab": {
          "base_uri": "https://localhost:8080/"
        },
        "id": "8w65OgdcYM3h",
        "outputId": "ec94b819-cf7d-4b9f-86f9-6408486831a4"
      },
      "execution_count": 29,
      "outputs": [
        {
          "output_type": "stream",
          "name": "stdout",
          "text": [
            "Modulus n: 274559\n"
          ]
        }
      ]
    },
    {
      "cell_type": "code",
      "source": [
        "# Step 3: Compute lambda(n) (lcm(n) = λ(n) = lcm(λ(p), λ(q), λ(p)=p-1, lcm(a,b) = |ab|/gcd(a,b))\n",
        "lambda_n = lcm(p-1, q-1)\n",
        "print(\"Lambda n\", lambda_n)\n"
      ],
      "metadata": {
        "colab": {
          "base_uri": "https://localhost:8080/"
        },
        "id": "s3G97k9FYYk5",
        "outputId": "7002444e-a637-4506-cb1d-1995690fbb49"
      },
      "execution_count": 30,
      "outputs": [
        {
          "output_type": "stream",
          "name": "stdout",
          "text": [
            "Lambda n 136752\n"
          ]
        }
      ]
    },
    {
      "cell_type": "code",
      "source": [
        "# Step 4: Choose an integer e such that 1 < e < λ(n) and gcd(e, λ(n)) = 1\n",
        "e = get_e(lambda_n)\n",
        "print(\"Public exponent: \", e)"
      ],
      "metadata": {
        "colab": {
          "base_uri": "https://localhost:8080/"
        },
        "id": "JIwZJ8-YaJFr",
        "outputId": "d7946a3d-2d57-48f3-b0f4-12e71d014059"
      },
      "execution_count": 31,
      "outputs": [
        {
          "output_type": "stream",
          "name": "stdout",
          "text": [
            "Public exponent:  5\n"
          ]
        }
      ]
    },
    {
      "cell_type": "code",
      "source": [
        "# Step 5: Determine d as d ≡ e−1 (mod λ(n)); that is, d is the modular multiplicative inverse of e modulo λ(n).\n",
        "d = get_d(e, lambda_n)\n",
        "print(\"Secret exponent\", d)"
      ],
      "metadata": {
        "colab": {
          "base_uri": "https://localhost:8080/"
        },
        "id": "SNHmhVZiavyB",
        "outputId": "0adbf063-b5f3-454b-df05-44ec792b03a3"
      },
      "execution_count": 32,
      "outputs": [
        {
          "output_type": "stream",
          "name": "stdout",
          "text": [
            "Secret exponent 54701\n"
          ]
        }
      ]
    },
    {
      "cell_type": "code",
      "source": [
        "# Done with key generation\n",
        "print(\"Public key (e, n):\", e, n)\n",
        "print(\"Secret key (d): \", d)"
      ],
      "metadata": {
        "colab": {
          "base_uri": "https://localhost:8080/"
        },
        "id": "no_kjdECbXEK",
        "outputId": "865b2871-d2d9-4a33-e93a-ab5e00ade91c"
      },
      "execution_count": 33,
      "outputs": [
        {
          "output_type": "stream",
          "name": "stdout",
          "text": [
            "Public key (e, n): 5 274559\n",
            "Secret key (d):  54701\n"
          ]
        }
      ]
    },
    {
      "cell_type": "code",
      "source": [
        "# This is Bob wanting to send a message\n",
        "m = 117\n",
        "c = m**e % n\n",
        "print(\"Bob sends\", c)"
      ],
      "metadata": {
        "colab": {
          "base_uri": "https://localhost:8080/"
        },
        "id": "ji8ePw5PbixJ",
        "outputId": "065abb44-ec9a-4dbb-f1cf-50d9a76a57fe"
      },
      "execution_count": 34,
      "outputs": [
        {
          "output_type": "stream",
          "name": "stdout",
          "text": [
            "Bob sends 120530\n"
          ]
        }
      ]
    },
    {
      "cell_type": "code",
      "source": [
        "# This is Alice decrypting the cipher\n",
        "m = c**d % n\n",
        "print(\"Alice message: \", m)"
      ],
      "metadata": {
        "colab": {
          "base_uri": "https://localhost:8080/"
        },
        "id": "eQ8fzToCbwOp",
        "outputId": "47c4cd1c-8fed-4870-b37c-36163e32b5af"
      },
      "execution_count": 35,
      "outputs": [
        {
          "output_type": "stream",
          "name": "stdout",
          "text": [
            "Alice message:  117\n"
          ]
        }
      ]
    },
    {
      "cell_type": "code",
      "source": [
        "# The Security of RSA and how to Implement an Attack\n",
        "\n",
        "# This is Eve\n",
        "print(\"Eve sees the following:\")\n",
        "print(\" Public key (e, n)\", e, n)\n",
        "print(\" Encrypted cipher\", c)"
      ],
      "metadata": {
        "colab": {
          "base_uri": "https://localhost:8080/"
        },
        "id": "SO9DW1DYb8hi",
        "outputId": "cf60cb3d-04fd-4cdf-a79a-5edcbf6c469f"
      },
      "execution_count": 36,
      "outputs": [
        {
          "output_type": "stream",
          "name": "stdout",
          "text": [
            "Eve sees the following:\n",
            " Public key (e, n) 5 274559\n",
            " Encrypted cipher 120530\n"
          ]
        }
      ]
    },
    {
      "cell_type": "code",
      "source": [
        "p, q = factor(n)\n",
        "print(\"Eve: Factors\", p, q)"
      ],
      "metadata": {
        "colab": {
          "base_uri": "https://localhost:8080/"
        },
        "id": "ux2BL6FNdOLz",
        "outputId": "6e654b6a-094f-4729-a78d-f97f5bd76e52"
      },
      "execution_count": 37,
      "outputs": [
        {
          "output_type": "stream",
          "name": "stdout",
          "text": [
            "Eve: Factors 463 593\n"
          ]
        }
      ]
    },
    {
      "cell_type": "code",
      "source": [
        "lambda_n = lcm(p-1, q-1)\n",
        "print(\"Eve: Lambda n\", lambda_n)"
      ],
      "metadata": {
        "colab": {
          "base_uri": "https://localhost:8080/"
        },
        "id": "ahQoQkFUdl9x",
        "outputId": "4389081f-f4d7-491a-da32-66f870081232"
      },
      "execution_count": 38,
      "outputs": [
        {
          "output_type": "stream",
          "name": "stdout",
          "text": [
            "Eve: Lambda n 136752\n"
          ]
        }
      ]
    },
    {
      "cell_type": "code",
      "source": [
        "d = get_d(e, lambda_n)\n",
        "print(\"Eve: Secret exponent\", d)"
      ],
      "metadata": {
        "colab": {
          "base_uri": "https://localhost:8080/"
        },
        "id": "ynxnHKywd-IB",
        "outputId": "3a09961d-2903-4e86-a702-c898507b206d"
      },
      "execution_count": 39,
      "outputs": [
        {
          "output_type": "stream",
          "name": "stdout",
          "text": [
            "Eve: Secret exponent 54701\n"
          ]
        }
      ]
    },
    {
      "cell_type": "code",
      "source": [
        "m = c**d % n\n",
        "print(\" Eve: message\", m)"
      ],
      "metadata": {
        "colab": {
          "base_uri": "https://localhost:8080/"
        },
        "id": "7i84v5dmeQap",
        "outputId": "02920e74-746c-4cc2-ddf2-92c74d761a5c"
      },
      "execution_count": 40,
      "outputs": [
        {
          "output_type": "stream",
          "name": "stdout",
          "text": [
            " Eve: message 117\n"
          ]
        }
      ]
    },
    {
      "cell_type": "code",
      "source": [
        "# How Wrong Use of RSA Breaks it - By Example in Python\n",
        "\n",
        "# This is Bob not being careful\n",
        "print(\"This is Bob not being careful\")\n",
        "message = \"Alice is awesome\"\n",
        "\n",
        "for m_c in message:\n",
        "  c = ord(m_c)**e % n\n",
        "  print(c, \" \", end='')\n",
        "print()"
      ],
      "metadata": {
        "colab": {
          "base_uri": "https://localhost:8080/"
        },
        "id": "ZCIuH72beXOJ",
        "outputId": "ccd76d4c-3bb1-4eda-d179-0fe1a2476f27"
      },
      "execution_count": 41,
      "outputs": [
        {
          "output_type": "stream",
          "name": "stdout",
          "text": [
            "This is Bob not being careful\n",
            "4291  255883  215069  416  256540  58234  215069  203212  58234  232973  241114  256540  203212  72044  227748  256540  \n"
          ]
        }
      ]
    },
    {
      "cell_type": "code",
      "source": [],
      "metadata": {
        "id": "YT0cnZsphLBz"
      },
      "execution_count": null,
      "outputs": []
    }
  ]
}