{
  "nbformat": 4,
  "nbformat_minor": 0,
  "metadata": {
    "colab": {
      "provenance": []
    },
    "kernelspec": {
      "name": "python3",
      "display_name": "Python 3"
    },
    "language_info": {
      "name": "python"
    }
  },
  "cells": [
    {
      "cell_type": "code",
      "execution_count": 42,
      "metadata": {
        "id": "7Y6qz3JG0xhT"
      },
      "outputs": [],
      "source": [
        "### Stream Ciphers\n",
        "## A stream cipher is a symmetric key cipher where plaintext digits are combined \n",
        "## with a pseudorandom cipher digit stream (keystream). In a stream cipher, \n",
        "## each plaintext digit is encrypted one at a time with the corresponding digit \n",
        "## of the keystream, to give a digit of the ciphertext stream. Since encryption \n",
        "## of each digit is dependent on the current state of the cipher, it is also \n",
        "## known as state cipher. In practice, a digit is typically a bit and the combining \n",
        "## operation is an exclusive-or (XOR).\n",
        "\n",
        "### Linear congruential generator\n",
        "## A linear congruential generator (LCG) is an algorithm that yields a sequence of \n",
        "## pseudo-randomized numbers calculated with a discontinuous piecewise linear equation. \n",
        "## The method represents one of the oldest and best-known pseudorandom number generator algorithms. \n",
        "## The theory behind them is relatively easy to understand, and they are easily implemented \n",
        "## and fast, especially on computer hardware which can provide modular arithmetic by storage-bit truncation."
      ]
    },
    {
      "cell_type": "code",
      "source": [
        "\n",
        "import random\n",
        "\n",
        "\n",
        "class KeyStream:\n",
        "\n",
        "  def __init__(self, key=1):\n",
        "    self.next = key\n",
        "\n",
        "  def rand(self):\n",
        "    self.next = (11035152245*self.next + 12345) % 2**31\n",
        "    return self.next\n",
        "\n",
        "  def get_key_byte(self):\n",
        "    return (self.rand()//2**23) % 256\n",
        "\n",
        "def encrypt(key, message):\n",
        "  return bytes([message[i] ^ key.get_key_byte() for i in range(len(message))])\n",
        "\n",
        "def transmit(cipher, likely):\n",
        "  b = []\n",
        "  for c in cipher:\n",
        "    if random.randrange(0, likely) == 0:\n",
        "      c = c ^ 2**random.randrange(0, 8)\n",
        "    b.append(c)\n",
        "  return bytes(b)\n",
        "\n",
        "def modification(cipher):\n",
        "  mod = [0]*len(cipher)\n",
        "  mod[10] = ord(' ') ^ ord('1')\n",
        "  mod[11] = ord(' ') ^ ord('0')\n",
        "  mod[12] = ord('1') ^ ord('0')\n",
        "  return bytes([mod[i] ^ cipher[i] for i in range(len(cipher))])\n",
        "\n",
        "def get_key(message, cipher):\n",
        "  return bytes([message[i] ^ cipher[i] for i in range(len(cipher))])\n",
        "\n",
        "def crack(key_stream, cipher):\n",
        "  length = min(len(key_stream), len(cipher))\n",
        "  return bytes([key_stream[i] ^ cipher[i] for i in range(length)])\n",
        "\n",
        "def brute_force(plain, cipher):\n",
        "  for k in range(2**31):\n",
        "    bf_key = KeyStream(k)\n",
        "    for i in range(len(plain)):\n",
        "      xor_value = plain[i] ^ cipher[i]\n",
        "      if xor_value != bf_key.get_key_byte():\n",
        "        break\n",
        "    else:\n",
        "      return k\n",
        "  return False\n",
        "\n",
        "\n",
        "key = KeyStream(10)\n",
        "#for i in range(10):\n",
        "#  print(key.get_key_byte())\n",
        "message = \"Hello, World! I am here to declare that I will take over the universe and become the supreme emperor.\".encode()\n",
        "print(message)\n",
        "cipher = encrypt(key, message)\n",
        "print(cipher)\n",
        "\n",
        "\n",
        "cipher = transmit(cipher, 5)\n",
        "\n",
        "\n",
        "key = KeyStream(10)\n",
        "message = encrypt(key, cipher)\n",
        "print(message)"
      ],
      "metadata": {
        "colab": {
          "base_uri": "https://localhost:8080/"
        },
        "id": "Zg2RQrhV19XN",
        "outputId": "62364a2e-996b-4329-d550-72088cb0efae"
      },
      "execution_count": 43,
      "outputs": [
        {
          "output_type": "stream",
          "name": "stdout",
          "text": [
            "b'Hello, World! I am here to declare that I will take over the universe and become the supreme emperor.'\n",
            "b\"*\\xd66\\t\\x8f\\x15{\\x1f4\\xcf\\x12wR3+\\xaf\\xa3MN\\x9e\\t\\xab\\xad\\r\\xbec}\\x81 \\xdc8\\xa9\\x8e\\xdf\\xe9\\x0f/PV\\x85\\xf9\\xd5\\xa0\\xc6\\xe6[,\\xf3\\xfd'\\xae$p\\x1b\\\\H\\xa8\\x97\\xce\\rk\\xd2\\xaa\\xd5W\\xbb\\x90\\xd4\\x95\\x0f\\xe9\\x92\\x8aR%\\xe7m\\xccc,\\x7f\\xe2\\x85\\x02D\\x01\\xe7(w(9\\xa2\\x15dX\\x95\\xba\\xe8\\xf1b\\x00\"\n",
            "b'hello, Worle! I am here t\\xef dec|are\\x00that I(wi|l tike over\\x00dhe univursd\\x00an` beCOme the supreme e-peror.'\n"
          ]
        }
      ]
    },
    {
      "cell_type": "code",
      "source": [
        "# This is Alice\n",
        "key = KeyStream(10)\n",
        "message = \"Send Bob:   10$\".encode()\n",
        "print(message)\n",
        "cipher = encrypt(key, message)\n",
        "print(cipher)\n",
        "\n",
        "# This is Bob\n",
        "cipher = modification(cipher)\n",
        "\n",
        "# This is bank\n",
        "key = KeyStream(10)\n",
        "message = encrypt(key, cipher)\n",
        "print(message)"
      ],
      "metadata": {
        "colab": {
          "base_uri": "https://localhost:8080/"
        },
        "id": "80kGLNUb3YwW",
        "outputId": "03b51cf9-3148-43fb-dd8e-318cf0cfc54a"
      },
      "execution_count": 44,
      "outputs": [
        {
          "output_type": "stream",
          "name": "stdout",
          "text": [
            "b'Send Bob:   10$'\n",
            "b'1\\xd64\\x01\\xc0{4*a\\x9d^3B#F'\n",
            "b'Send Bob: 1000$'\n"
          ]
        }
      ]
    },
    {
      "cell_type": "code",
      "source": [
        "# Eve goes to Alice\n",
        "eves_message = \"This is Eve's most valued secrets of all her life.\".encode()\n",
        "\n",
        "# This is Alice alone\n",
        "key = KeyStream(10)\n",
        "message = eves_message\n",
        "print(message)\n",
        "cipher = encrypt(key, message)\n",
        "print(cipher)\n",
        "\n",
        "# This is Eve (alone) all evil\n",
        "eves_key_stream = get_key(eves_message, cipher)\n",
        "\n",
        "# This is Bob\n",
        "key = KeyStream(10)\n",
        "message = encrypt(key, cipher)\n",
        "print(message)\n",
        "\n",
        "# Alice again\n",
        "message = \"Hi Bob, let's meet a plan our world domination.\".encode()\n",
        "key = KeyStream(10)\n",
        "cipher = encrypt(key, message)\n",
        "print(cipher)\n",
        "\n",
        "# Bob again\n",
        "key = KeyStream(10)\n",
        "message = encrypt(key, cipher)\n",
        "print(message)\n",
        "\n",
        "# Eve again (more evil than ever)\n",
        "print(\" THIS IS EVE \")\n",
        "print(crack(eves_key_stream, cipher))"
      ],
      "metadata": {
        "colab": {
          "base_uri": "https://localhost:8080/"
        },
        "id": "fCxmoW_A73x_",
        "outputId": "b5f7740f-22c0-4ac1-9abc-d737c8cd19f5"
      },
      "execution_count": 45,
      "outputs": [
        {
          "output_type": "stream",
          "name": "stdout",
          "text": [
            "b\"This is Eve's most valued secrets of all her life.\"\n",
            "b'6\\xdb3\\x16\\xc0P(h\\x1e\\xcb\\x1b4\\x003\\x0f\\xe0\\xb1TN\\x80\\r\\xb5\\xbdH\\xae,.\\x80&\\xcd1\\xbc\\x8f\\x9a\\xa6\\x1dgPN\\xc9\\x90\\x9d\\xb2\\xdd\\xaa[e\\xe1\\xf9b'\n",
            "b\"This is Eve's most valued secrets of all her life.\"\n",
            "b'*\\xdaz\\'\\x8f[wh7\\xd8\\n4\\x003\\x0f\\xea\\xa7TN\\x97L\\xa9\\xa4L\\xa4,2\\x907\\x9f#\\xa7\\x8e\\xd6\\xad[#^O\\xcc\\xde\\x94\\xa3\\xc6\\xe5Y\"'\n",
            "b\"Hi Bob, let's meet a plan our world domination.\"\n",
            " THIS IS EVE \n",
            "b\"Hi Bob, let's meet a plan our world domination.\"\n"
          ]
        }
      ]
    },
    {
      "cell_type": "code",
      "source": [
        "## What is entropy in cryptography?\n",
        "## In cryptography, entropy refers to the randomness collected by a system for use in algorithms\n",
        "## that require random data. A lack of good entropy can leave a cryptosystem vulnerable\n",
        "## and unable to encrypt data securely.\n",
        "\n",
        "# Brute force of our Stream Cipher - More than one weakness revelead\n",
        "\n",
        "# This is Alice\n",
        "secret_key = random.randrange(0, 2**20)\n",
        "print(secret_key)\n",
        "key = KeyStream(secret_key)\n",
        "header = \"MESSAGE: \"\n",
        "message = header + \"My secret message to Bob\"\n",
        "message = message.encode()\n",
        "print(message)\n",
        "cipher = encrypt(key, message)\n",
        "print(cipher)\n",
        "\n",
        "# This is Bob\n",
        "key = KeyStream(secret_key)\n",
        "message = encrypt(key, cipher)\n",
        "print(message)\n",
        "\n",
        "# This is Eve\n",
        "bf_key = brute_force(header.encode(), cipher)\n",
        "print(\"Eve's brute force key:\", bf_key)\n",
        "key = KeyStream(bf_key)\n",
        "message = encrypt(key, cipher)\n",
        "print(message)\n"
      ],
      "metadata": {
        "id": "LLUrCv9k-SEo",
        "colab": {
          "base_uri": "https://localhost:8080/"
        },
        "outputId": "08b7a299-4f13-416a-bb49-31521bbee1bd"
      },
      "execution_count": 46,
      "outputs": [
        {
          "output_type": "stream",
          "name": "stdout",
          "text": [
            "86565\n",
            "b'MESSAGE: My secret message to Bob'\n",
            "b'\\xeb:\\x0f@\\xa5\\xe9\\xdc\"j\\x01\\x12\\x90\\x17\\x07\\r\\x06t\\xc9\\x13}\\xa6I\\xd5\\xef\\xf6\\xf8\\x7f\\xd7\\x8f,\\x8b:\\xa5'\n",
            "b'MESSAGE: My secret message to Bob'\n",
            "Eve's brute force key: 86565\n",
            "b'MESSAGE: My secret message to Bob'\n"
          ]
        }
      ]
    },
    {
      "cell_type": "code",
      "source": [],
      "metadata": {
        "id": "N7Rhuk7FFjnP"
      },
      "execution_count": 46,
      "outputs": []
    }
  ]
}