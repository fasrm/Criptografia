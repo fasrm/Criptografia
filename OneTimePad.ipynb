{
  "nbformat": 4,
  "nbformat_minor": 0,
  "metadata": {
    "colab": {
      "provenance": []
    },
    "kernelspec": {
      "name": "python3",
      "display_name": "Python 3"
    },
    "language_info": {
      "name": "python"
    }
  },
  "cells": [
    {
      "cell_type": "code",
      "execution_count": 1,
      "metadata": {
        "colab": {
          "base_uri": "https://localhost:8080/"
        },
        "id": "1ngZZMxAsxtG",
        "outputId": "3a7a19d1-52b5-4476-ec2d-eaf7268934a9"
      },
      "outputs": [
        {
          "output_type": "stream",
          "name": "stdout",
          "text": [
            "4 xor 8 = 12\n",
            "4 xor 4 = 0\n",
            "255 xor 1 = 254\n",
            "255 xor 128 = 127\n"
          ]
        }
      ],
      "source": [
        "# Introduction to XOR - the most beautiful operation\n",
        "def xor(x, s):\n",
        "  print(x, 'xor', s, '=', x ^ s)\n",
        "\n",
        "xor(4, 8)\n",
        "xor(4, 4)\n",
        "xor(255, 1)\n",
        "xor(255, 128)"
      ]
    },
    {
      "cell_type": "code",
      "source": [
        "def xor(x, s):\n",
        "  print(bin(x), 'xor', bin(s), '=', bin(x ^ s))\n",
        "\n",
        "xor(4, 8)\n",
        "xor(4, 4)\n",
        "xor(255, 1)\n",
        "xor(255, 128)"
      ],
      "metadata": {
        "colab": {
          "base_uri": "https://localhost:8080/"
        },
        "id": "_Mu07vJJv3ec",
        "outputId": "a295b926-21cf-4c8d-b35f-ec9ad2014bf6"
      },
      "execution_count": 2,
      "outputs": [
        {
          "output_type": "stream",
          "name": "stdout",
          "text": [
            "0b100 xor 0b1000 = 0b1100\n",
            "0b100 xor 0b100 = 0b0\n",
            "0b11111111 xor 0b1 = 0b11111110\n",
            "0b11111111 xor 0b10000000 = 0b1111111\n"
          ]
        }
      ]
    },
    {
      "cell_type": "code",
      "source": [
        "## What is One-Time Pad?\n",
        "## In cryptography, the one-time pad (OTP) is an encryption technique that cannot be cracked, \n",
        "## but requires the use of a single-use pre-shared key that is not smaller than the message being sent. \n",
        "## In this technique, a plaintext is paired with a random secret key (also referred to as a one-time pad). \n",
        "## Then, each bit or character of the plaintext is encrypted by combining it with the corresponding bit or \n",
        "## character from the pad using modular addition.\n",
        "\n",
        "import random\n",
        "\n",
        "\n",
        "def generate_key_stream(n):\n",
        "  return bytes([random.randrange(0, 256) for i in range(n)])\n",
        "\n",
        "def xor_bytes(key_stream, message):\n",
        "  length = min(len(key_stream), len(message))\n",
        "  return bytes([key_stream[i] ^ message[i] for i in range(length)])\n",
        "\n",
        "\n",
        "message = \"YOU ARE AWESOME\".encode()\n",
        "key_stream = generate_key_stream(len(message))\n",
        "cipher = xor_bytes(key_stream, message)\n",
        "print(key_stream)\n",
        "print(cipher)\n",
        "print(xor_bytes(key_stream, cipher))\n",
        "\n"
      ],
      "metadata": {
        "colab": {
          "base_uri": "https://localhost:8080/"
        },
        "id": "GzCD7MLPwGbZ",
        "outputId": "6df31b50-3525-41c1-b291-557dc821cbcb"
      },
      "execution_count": 4,
      "outputs": [
        {
          "output_type": "stream",
          "name": "stdout",
          "text": [
            "b'\\xa4f\\x08\\x11\\xb3\\x83\\xbdI\\x01\\xd5\\xd3f9_g'\n",
            "b'\\xfd)]1\\xf2\\xd1\\xf8i@\\x82\\x965v\\x12\"'\n",
            "b'YOU ARE AWESOME'\n"
          ]
        }
      ]
    },
    {
      "cell_type": "code",
      "source": [
        "# This is done by your enemy\n",
        "message = \"DO ATTACK\".encode()\n",
        "key_stream = generate_key_stream(len(message))\n",
        "cipher = xor_bytes(key_stream, message)\n",
        "\n",
        "# This is us trying to break it\n",
        "print(cipher)\n",
        "message = \"NO ATTACK\"\n",
        "message = message.encode()\n",
        "guess_key_stream = xor_bytes(message, cipher)\n",
        "print(xor_bytes(guess_key_stream, cipher))"
      ],
      "metadata": {
        "colab": {
          "base_uri": "https://localhost:8080/"
        },
        "id": "tV4fCp6pyAcB",
        "outputId": "22fa40c2-9b73-4762-85a3-4bd12d17cac1"
      },
      "execution_count": 6,
      "outputs": [
        {
          "output_type": "stream",
          "name": "stdout",
          "text": [
            "b'\\x07 \\xa5\\xc3\\x10\\xf1\\x00\\xf0\\x05'\n",
            "b'NO ATTACK'\n"
          ]
        }
      ]
    },
    {
      "cell_type": "code",
      "source": [],
      "metadata": {
        "id": "Kte4Cez60NQo"
      },
      "execution_count": null,
      "outputs": []
    }
  ]
}