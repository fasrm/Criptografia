{
  "nbformat": 4,
  "nbformat_minor": 0,
  "metadata": {
    "colab": {
      "provenance": []
    },
    "kernelspec": {
      "name": "python3",
      "display_name": "Python 3"
    },
    "language_info": {
      "name": "python"
    }
  },
  "cells": [
    {
      "cell_type": "code",
      "source": [
        "import math\n",
        "import random"
      ],
      "metadata": {
        "id": "NlaDhMrm88aJ"
      },
      "execution_count": 10,
      "outputs": []
    },
    {
      "cell_type": "code",
      "execution_count": 11,
      "metadata": {
        "id": "FcLk3UUd8F1_"
      },
      "outputs": [],
      "source": [
        "def is_prime(p):\n",
        "  for i in range(2, p):\n",
        "    if p % i == 0:\n",
        "      return False\n",
        "  return True"
      ]
    },
    {
      "cell_type": "code",
      "source": [
        "print(is_prime(8))"
      ],
      "metadata": {
        "colab": {
          "base_uri": "https://localhost:8080/"
        },
        "id": "coVcD_j98R4J",
        "outputId": "c2d49371-2480-416c-e59d-af6a79549cb3"
      },
      "execution_count": 12,
      "outputs": [
        {
          "output_type": "stream",
          "name": "stdout",
          "text": [
            "False\n"
          ]
        }
      ]
    },
    {
      "cell_type": "code",
      "source": [
        "print(is_prime(7))"
      ],
      "metadata": {
        "colab": {
          "base_uri": "https://localhost:8080/"
        },
        "id": "vn0IsS4k8c4B",
        "outputId": "a64c4dda-c1d2-4b41-fdec-85acac8c4ec0"
      },
      "execution_count": 13,
      "outputs": [
        {
          "output_type": "stream",
          "name": "stdout",
          "text": [
            "True\n"
          ]
        }
      ]
    },
    {
      "cell_type": "code",
      "source": [
        "print(is_prime(23))"
      ],
      "metadata": {
        "colab": {
          "base_uri": "https://localhost:8080/"
        },
        "id": "WAHowsMI8nox",
        "outputId": "28c748c7-550e-4fa4-9fab-ab2f42a8d460"
      },
      "execution_count": 14,
      "outputs": [
        {
          "output_type": "stream",
          "name": "stdout",
          "text": [
            "True\n"
          ]
        }
      ]
    },
    {
      "cell_type": "code",
      "source": [
        "print(is_prime(46))"
      ],
      "metadata": {
        "colab": {
          "base_uri": "https://localhost:8080/"
        },
        "id": "_0FKVS-n8pyj",
        "outputId": "66b83b43-e65e-4969-ea2f-df90faf81ff8"
      },
      "execution_count": 15,
      "outputs": [
        {
          "output_type": "stream",
          "name": "stdout",
          "text": [
            "False\n"
          ]
        }
      ]
    },
    {
      "cell_type": "code",
      "source": [
        "def is_prime(p):\n",
        "  for i in range(2, math.isqrt(p)):\n",
        "    if p % i == 0:\n",
        "      return False\n",
        "  return True"
      ],
      "metadata": {
        "id": "idz5ytaN8rVY"
      },
      "execution_count": 16,
      "outputs": []
    },
    {
      "cell_type": "code",
      "source": [
        "print(is_prime(23))"
      ],
      "metadata": {
        "colab": {
          "base_uri": "https://localhost:8080/"
        },
        "id": "im-_IvIo82y5",
        "outputId": "a8cb6c76-2a0b-44a3-ee4e-03268dce0647"
      },
      "execution_count": 17,
      "outputs": [
        {
          "output_type": "stream",
          "name": "stdout",
          "text": [
            "True\n"
          ]
        }
      ]
    },
    {
      "cell_type": "code",
      "source": [
        "def get_prime(size):\n",
        "  while True:\n",
        "    p = random.randrange(size, 2*size)\n",
        "    if is_prime(p):\n",
        "      return p"
      ],
      "metadata": {
        "id": "UD1fsaPw85JT"
      },
      "execution_count": 18,
      "outputs": []
    },
    {
      "cell_type": "code",
      "source": [
        "print(get_prime(10000))"
      ],
      "metadata": {
        "colab": {
          "base_uri": "https://localhost:8080/"
        },
        "id": "HM3Vo2yy9Qnp",
        "outputId": "6fb16e0c-980d-48f1-b1e5-2150cbd94448"
      },
      "execution_count": 22,
      "outputs": [
        {
          "output_type": "stream",
          "name": "stdout",
          "text": [
            "12473\n"
          ]
        }
      ]
    },
    {
      "cell_type": "code",
      "source": [
        "# Implementing a Group Generator\n",
        "# Diffie Helman key exchange wikipedia article (read it!)\n",
        "\n",
        "def is_generator(g, p):\n",
        "  for i in range(1, p -1):\n",
        "    if (g**i) % p == 1:\n",
        "      return False\n",
        "  return True\n",
        "\n",
        "\n",
        "def get_generator(p):\n",
        "  for g in range(2, p):\n",
        "    if is_generator(g, p):\n",
        "      return g\n",
        "\n",
        "p = get_prime(10000)\n",
        "g = get_generator(p)\n",
        "print(g, p)"
      ],
      "metadata": {
        "colab": {
          "base_uri": "https://localhost:8080/"
        },
        "id": "NrLGJrqu9SNA",
        "outputId": "11784397-75a7-42fc-d37e-dd5b2ec2519a"
      },
      "execution_count": 28,
      "outputs": [
        {
          "output_type": "stream",
          "name": "stdout",
          "text": [
            "3 17729\n"
          ]
        }
      ]
    },
    {
      "cell_type": "code",
      "source": [
        "### Implementing Diffie-Hellman Key Exchange\n",
        "\n",
        "# Alice\n",
        "a = random.randrange(0, p)\n",
        "g_a = (g**a) % p\n",
        "# Alice send this out in the public\n",
        "print(\"Alice - g_a: \", g_a)\n",
        "\n",
        "\n",
        "# Bob\n",
        "b = random.randrange(0, p)\n",
        "g_b = (g**b) % p\n",
        "# Bob send this out in the public\n",
        "print(\"Bob - g_b: \", g_b)\n",
        "\n",
        "\n",
        "# Back to Alice\n",
        "g_ab = (g_b**a) % p\n",
        "print(\"Alice g_ab: \", g_ab)\n",
        "\n",
        "# Back to Bob\n",
        "g_ab = (g_a**b) % p\n",
        "print(\"Bob g_ab: \", g_ab)"
      ],
      "metadata": {
        "colab": {
          "base_uri": "https://localhost:8080/"
        },
        "id": "2uCBj9g7DWWI",
        "outputId": "cf5e642b-b111-4f2b-bcdc-d1786615e697"
      },
      "execution_count": 30,
      "outputs": [
        {
          "output_type": "stream",
          "name": "stdout",
          "text": [
            "Alice - g_a:  1714\n",
            "Bob - g_b:  16490\n",
            "Alice g_ab:  14685\n",
            "Bob g_ab:  14685\n"
          ]
        }
      ]
    },
    {
      "cell_type": "code",
      "source": [
        "# Read Diffie-Hellman key exchange from Wikipedia"
      ],
      "metadata": {
        "id": "js8syThZE6uQ"
      },
      "execution_count": null,
      "outputs": []
    }
  ]
}