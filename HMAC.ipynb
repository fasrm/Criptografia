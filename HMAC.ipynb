{
  "nbformat": 4,
  "nbformat_minor": 0,
  "metadata": {
    "colab": {
      "provenance": []
    },
    "kernelspec": {
      "name": "python3",
      "display_name": "Python 3"
    },
    "language_info": {
      "name": "python"
    }
  },
  "cells": [
    {
      "cell_type": "code",
      "execution_count": 1,
      "metadata": {
        "id": "pxoWdNPfCnUv"
      },
      "outputs": [],
      "source": [
        "### HMAC\n",
        "## HMAC (sometimes expanded as either keyed-hash message authentication code or \n",
        "## hash-based message authentication code) is a specific type of message authentication code (MAC) \n",
        "## involving a cryptographic hash function and a secret cryptographic key. As with any MAC, \n",
        "## it may be used to simultaneously verify both the data integrity and authenticity of a message.\n",
        "## HMAC can provide authentication using a shared secret instead of using digital signatures \n",
        "## with asymmetric cryptography. It trades off the need for a complex public key infrastructure \n",
        "## by delegating the key exchange to the communicating parties, who are responsible for establishing \n",
        "## and using a trusted channel to agree on the key prior to communication.\n",
        "\n"
      ]
    },
    {
      "cell_type": "code",
      "source": [
        "import hashlib"
      ],
      "metadata": {
        "id": "4bz5gou5rSLV"
      },
      "execution_count": 2,
      "outputs": []
    },
    {
      "cell_type": "code",
      "source": [
        "def modify(m):\n",
        "  l = list(m)\n",
        "  l[0] = l[0] ^ 1\n",
        "  return bytes(l)"
      ],
      "metadata": {
        "id": "v6BFmPrGsXla"
      },
      "execution_count": 5,
      "outputs": []
    },
    {
      "cell_type": "code",
      "source": [
        "# Alice and Bob share a secret key\n",
        "secret_key = \"secret key\".encode()\n",
        "\n",
        "# Alice wants to compute a MAC\n",
        "m = \"Hey Bob. You are still awesome.\".encode()\n",
        "sha256 = hashlib.sha256()\n",
        "sha256.update(secret_key)\n",
        "sha256.update(m)\n",
        "hmac = sha256.digest()\n",
        "\n",
        "print(m, hmac)\n"
      ],
      "metadata": {
        "colab": {
          "base_uri": "https://localhost:8080/"
        },
        "id": "fxu40FTirZ34",
        "outputId": "f8cea709-1a22-4c74-fde0-f9b7ccfa2edd"
      },
      "execution_count": 3,
      "outputs": [
        {
          "output_type": "stream",
          "name": "stdout",
          "text": [
            "b'Hey Bob. You are still awesome.' b'\\xd5\\x9dy\\xa2\\x15\\xe1\\x04XEp\\xe8\\x8a\\x19\\x88d\\xa45\\xc5%\\xa1\\x84?\\xfd\\x01\\xcd\\xe1vH0\\xb8\\x19\\xd6'\n"
          ]
        }
      ]
    },
    {
      "cell_type": "code",
      "source": [
        "# Bob receives and validates the HMAC\n",
        "sha256 = hashlib.sha256()\n",
        "sha256.update(secret_key)\n",
        "sha256.update(m)\n",
        "hmac = sha256.digest()\n",
        "print(m, hmac)"
      ],
      "metadata": {
        "colab": {
          "base_uri": "https://localhost:8080/"
        },
        "id": "ruAfBylXr1Zf",
        "outputId": "821a12f6-9ca8-40e7-d698-30a12dc01d5c"
      },
      "execution_count": 4,
      "outputs": [
        {
          "output_type": "stream",
          "name": "stdout",
          "text": [
            "b'Hey Bob. You are still awesome.' b'\\xd5\\x9dy\\xa2\\x15\\xe1\\x04XEp\\xe8\\x8a\\x19\\x88d\\xa45\\xc5%\\xa1\\x84?\\xfd\\x01\\xcd\\xe1vH0\\xb8\\x19\\xd6'\n"
          ]
        }
      ]
    },
    {
      "cell_type": "code",
      "source": [
        "## What happens if Eve modifies a message - will Bob figure it out?\n",
        "\n",
        "# Eve comes along\n",
        "m = modify(m)\n",
        "print(m)"
      ],
      "metadata": {
        "colab": {
          "base_uri": "https://localhost:8080/"
        },
        "id": "mdh3RwGxsGe5",
        "outputId": "423f75da-1f54-4b7b-eb94-88b2e4cdb19f"
      },
      "execution_count": 6,
      "outputs": [
        {
          "output_type": "stream",
          "name": "stdout",
          "text": [
            "b'Iey Bob. You are still awesome.'\n"
          ]
        }
      ]
    },
    {
      "cell_type": "code",
      "source": [],
      "metadata": {
        "id": "uWABXEuZseoP"
      },
      "execution_count": null,
      "outputs": []
    }
  ]
}