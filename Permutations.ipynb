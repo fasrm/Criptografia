{
  "nbformat": 4,
  "nbformat_minor": 0,
  "metadata": {
    "colab": {
      "provenance": []
    },
    "kernelspec": {
      "name": "python3",
      "display_name": "Python 3"
    },
    "language_info": {
      "name": "python"
    }
  },
  "cells": [
    {
      "cell_type": "code",
      "execution_count": 1,
      "metadata": {
        "id": "b7HT9XfBOAHu"
      },
      "outputs": [],
      "source": [
        "from itertools import permutations"
      ]
    },
    {
      "cell_type": "code",
      "source": [
        "my_list  = [1, 2, 3]\n",
        "my_list2 = [1, 2, 3, 4]\n",
        "my_list3 = [1, 2, 3, 4, 5]\n",
        "my_list4 = [1, 2, 3, 4, 5, 6]\n",
        "my_list5 = [1, 2, 3, 4, 5, 6, 7]"
      ],
      "metadata": {
        "id": "P946ruvYRwDC"
      },
      "execution_count": 15,
      "outputs": []
    },
    {
      "cell_type": "code",
      "source": [
        "list_of_permutations = permutations(my_list)\n",
        "for permutation in list_of_permutations:\n",
        "  print(permutation)"
      ],
      "metadata": {
        "colab": {
          "base_uri": "https://localhost:8080/"
        },
        "id": "DYUbq10kRy2_",
        "outputId": "5358292f-8cbe-46a8-fedc-0fcef08349a3"
      },
      "execution_count": 16,
      "outputs": [
        {
          "output_type": "stream",
          "name": "stdout",
          "text": [
            "(1, 2, 3)\n",
            "(1, 3, 2)\n",
            "(2, 1, 3)\n",
            "(2, 3, 1)\n",
            "(3, 1, 2)\n",
            "(3, 2, 1)\n"
          ]
        }
      ]
    },
    {
      "cell_type": "code",
      "source": [
        "list_of_permutations = permutations(my_list2)\n",
        "for permutation in list_of_permutations:\n",
        "  print(permutation)"
      ],
      "metadata": {
        "colab": {
          "base_uri": "https://localhost:8080/"
        },
        "id": "xpoQTGoaR57X",
        "outputId": "ef6ccd75-4934-4b06-9671-8fc2e3050c11"
      },
      "execution_count": 17,
      "outputs": [
        {
          "output_type": "stream",
          "name": "stdout",
          "text": [
            "(1, 2, 3, 4)\n",
            "(1, 2, 4, 3)\n",
            "(1, 3, 2, 4)\n",
            "(1, 3, 4, 2)\n",
            "(1, 4, 2, 3)\n",
            "(1, 4, 3, 2)\n",
            "(2, 1, 3, 4)\n",
            "(2, 1, 4, 3)\n",
            "(2, 3, 1, 4)\n",
            "(2, 3, 4, 1)\n",
            "(2, 4, 1, 3)\n",
            "(2, 4, 3, 1)\n",
            "(3, 1, 2, 4)\n",
            "(3, 1, 4, 2)\n",
            "(3, 2, 1, 4)\n",
            "(3, 2, 4, 1)\n",
            "(3, 4, 1, 2)\n",
            "(3, 4, 2, 1)\n",
            "(4, 1, 2, 3)\n",
            "(4, 1, 3, 2)\n",
            "(4, 2, 1, 3)\n",
            "(4, 2, 3, 1)\n",
            "(4, 3, 1, 2)\n",
            "(4, 3, 2, 1)\n"
          ]
        }
      ]
    },
    {
      "cell_type": "code",
      "source": [
        "list_of_permutations = permutations(my_list3)\n",
        "for permutation in list_of_permutations:\n",
        "  print(permutation)"
      ],
      "metadata": {
        "colab": {
          "base_uri": "https://localhost:8080/"
        },
        "id": "ERx0PAXUScG3",
        "outputId": "c048d775-a814-4b7d-f3c8-2f65f0cf62f7"
      },
      "execution_count": 18,
      "outputs": [
        {
          "output_type": "stream",
          "name": "stdout",
          "text": [
            "(1, 2, 3, 4, 5)\n",
            "(1, 2, 3, 5, 4)\n",
            "(1, 2, 4, 3, 5)\n",
            "(1, 2, 4, 5, 3)\n",
            "(1, 2, 5, 3, 4)\n",
            "(1, 2, 5, 4, 3)\n",
            "(1, 3, 2, 4, 5)\n",
            "(1, 3, 2, 5, 4)\n",
            "(1, 3, 4, 2, 5)\n",
            "(1, 3, 4, 5, 2)\n",
            "(1, 3, 5, 2, 4)\n",
            "(1, 3, 5, 4, 2)\n",
            "(1, 4, 2, 3, 5)\n",
            "(1, 4, 2, 5, 3)\n",
            "(1, 4, 3, 2, 5)\n",
            "(1, 4, 3, 5, 2)\n",
            "(1, 4, 5, 2, 3)\n",
            "(1, 4, 5, 3, 2)\n",
            "(1, 5, 2, 3, 4)\n",
            "(1, 5, 2, 4, 3)\n",
            "(1, 5, 3, 2, 4)\n",
            "(1, 5, 3, 4, 2)\n",
            "(1, 5, 4, 2, 3)\n",
            "(1, 5, 4, 3, 2)\n",
            "(2, 1, 3, 4, 5)\n",
            "(2, 1, 3, 5, 4)\n",
            "(2, 1, 4, 3, 5)\n",
            "(2, 1, 4, 5, 3)\n",
            "(2, 1, 5, 3, 4)\n",
            "(2, 1, 5, 4, 3)\n",
            "(2, 3, 1, 4, 5)\n",
            "(2, 3, 1, 5, 4)\n",
            "(2, 3, 4, 1, 5)\n",
            "(2, 3, 4, 5, 1)\n",
            "(2, 3, 5, 1, 4)\n",
            "(2, 3, 5, 4, 1)\n",
            "(2, 4, 1, 3, 5)\n",
            "(2, 4, 1, 5, 3)\n",
            "(2, 4, 3, 1, 5)\n",
            "(2, 4, 3, 5, 1)\n",
            "(2, 4, 5, 1, 3)\n",
            "(2, 4, 5, 3, 1)\n",
            "(2, 5, 1, 3, 4)\n",
            "(2, 5, 1, 4, 3)\n",
            "(2, 5, 3, 1, 4)\n",
            "(2, 5, 3, 4, 1)\n",
            "(2, 5, 4, 1, 3)\n",
            "(2, 5, 4, 3, 1)\n",
            "(3, 1, 2, 4, 5)\n",
            "(3, 1, 2, 5, 4)\n",
            "(3, 1, 4, 2, 5)\n",
            "(3, 1, 4, 5, 2)\n",
            "(3, 1, 5, 2, 4)\n",
            "(3, 1, 5, 4, 2)\n",
            "(3, 2, 1, 4, 5)\n",
            "(3, 2, 1, 5, 4)\n",
            "(3, 2, 4, 1, 5)\n",
            "(3, 2, 4, 5, 1)\n",
            "(3, 2, 5, 1, 4)\n",
            "(3, 2, 5, 4, 1)\n",
            "(3, 4, 1, 2, 5)\n",
            "(3, 4, 1, 5, 2)\n",
            "(3, 4, 2, 1, 5)\n",
            "(3, 4, 2, 5, 1)\n",
            "(3, 4, 5, 1, 2)\n",
            "(3, 4, 5, 2, 1)\n",
            "(3, 5, 1, 2, 4)\n",
            "(3, 5, 1, 4, 2)\n",
            "(3, 5, 2, 1, 4)\n",
            "(3, 5, 2, 4, 1)\n",
            "(3, 5, 4, 1, 2)\n",
            "(3, 5, 4, 2, 1)\n",
            "(4, 1, 2, 3, 5)\n",
            "(4, 1, 2, 5, 3)\n",
            "(4, 1, 3, 2, 5)\n",
            "(4, 1, 3, 5, 2)\n",
            "(4, 1, 5, 2, 3)\n",
            "(4, 1, 5, 3, 2)\n",
            "(4, 2, 1, 3, 5)\n",
            "(4, 2, 1, 5, 3)\n",
            "(4, 2, 3, 1, 5)\n",
            "(4, 2, 3, 5, 1)\n",
            "(4, 2, 5, 1, 3)\n",
            "(4, 2, 5, 3, 1)\n",
            "(4, 3, 1, 2, 5)\n",
            "(4, 3, 1, 5, 2)\n",
            "(4, 3, 2, 1, 5)\n",
            "(4, 3, 2, 5, 1)\n",
            "(4, 3, 5, 1, 2)\n",
            "(4, 3, 5, 2, 1)\n",
            "(4, 5, 1, 2, 3)\n",
            "(4, 5, 1, 3, 2)\n",
            "(4, 5, 2, 1, 3)\n",
            "(4, 5, 2, 3, 1)\n",
            "(4, 5, 3, 1, 2)\n",
            "(4, 5, 3, 2, 1)\n",
            "(5, 1, 2, 3, 4)\n",
            "(5, 1, 2, 4, 3)\n",
            "(5, 1, 3, 2, 4)\n",
            "(5, 1, 3, 4, 2)\n",
            "(5, 1, 4, 2, 3)\n",
            "(5, 1, 4, 3, 2)\n",
            "(5, 2, 1, 3, 4)\n",
            "(5, 2, 1, 4, 3)\n",
            "(5, 2, 3, 1, 4)\n",
            "(5, 2, 3, 4, 1)\n",
            "(5, 2, 4, 1, 3)\n",
            "(5, 2, 4, 3, 1)\n",
            "(5, 3, 1, 2, 4)\n",
            "(5, 3, 1, 4, 2)\n",
            "(5, 3, 2, 1, 4)\n",
            "(5, 3, 2, 4, 1)\n",
            "(5, 3, 4, 1, 2)\n",
            "(5, 3, 4, 2, 1)\n",
            "(5, 4, 1, 2, 3)\n",
            "(5, 4, 1, 3, 2)\n",
            "(5, 4, 2, 1, 3)\n",
            "(5, 4, 2, 3, 1)\n",
            "(5, 4, 3, 1, 2)\n",
            "(5, 4, 3, 2, 1)\n"
          ]
        }
      ]
    },
    {
      "cell_type": "code",
      "source": [
        "list_of_permutations = permutations(my_list3)\n",
        "cnt = 0\n",
        "for permutation in list_of_permutations:\n",
        "  cnt += 1\n",
        "print(len(my_list3), cnt)"
      ],
      "metadata": {
        "colab": {
          "base_uri": "https://localhost:8080/"
        },
        "id": "NeoLMqCCSB9n",
        "outputId": "98cfbee5-0858-4555-95f1-091716cdfb4f"
      },
      "execution_count": 19,
      "outputs": [
        {
          "output_type": "stream",
          "name": "stdout",
          "text": [
            "5 120\n"
          ]
        }
      ]
    },
    {
      "cell_type": "code",
      "source": [
        "list_of_permutations = permutations(my_list4)\n",
        "cnt = 0\n",
        "for permutation in list_of_permutations:\n",
        "  cnt += 1\n",
        "print(len(my_list4), cnt)"
      ],
      "metadata": {
        "colab": {
          "base_uri": "https://localhost:8080/"
        },
        "id": "CVy_bVzAStz3",
        "outputId": "5f773b7f-bf53-41a5-b5e6-06feab209e2a"
      },
      "execution_count": 20,
      "outputs": [
        {
          "output_type": "stream",
          "name": "stdout",
          "text": [
            "6 720\n"
          ]
        }
      ]
    },
    {
      "cell_type": "code",
      "source": [
        "list_of_permutations = permutations(my_list5)\n",
        "cnt = 0\n",
        "for permutation in list_of_permutations:\n",
        "  cnt += 1\n",
        "print(len(my_list5), cnt)"
      ],
      "metadata": {
        "colab": {
          "base_uri": "https://localhost:8080/"
        },
        "id": "OpDtZnchS_6f",
        "outputId": "d57995d3-653a-449a-f756-43b4863b02b4"
      },
      "execution_count": 21,
      "outputs": [
        {
          "output_type": "stream",
          "name": "stdout",
          "text": [
            "7 5040\n"
          ]
        }
      ]
    },
    {
      "cell_type": "code",
      "source": [
        "import cProfile"
      ],
      "metadata": {
        "id": "VmxYHPCgUpm2"
      },
      "execution_count": 32,
      "outputs": []
    },
    {
      "cell_type": "code",
      "source": [
        "def faculty(n):\n",
        "  if n <= 1:\n",
        "    return n\n",
        "  else:\n",
        "    return faculty(n-1)*n"
      ],
      "metadata": {
        "id": "BUlnW5TLTDWO"
      },
      "execution_count": 28,
      "outputs": []
    },
    {
      "cell_type": "code",
      "source": [
        "for i in range(10):\n",
        "  print(faculty(i))"
      ],
      "metadata": {
        "colab": {
          "base_uri": "https://localhost:8080/"
        },
        "id": "NCFE72DAT2M3",
        "outputId": "97a377c8-bafe-4829-8ae8-126c01e793b5"
      },
      "execution_count": 30,
      "outputs": [
        {
          "output_type": "stream",
          "name": "stdout",
          "text": [
            "0\n",
            "1\n",
            "2\n",
            "6\n",
            "24\n",
            "120\n",
            "720\n",
            "5040\n",
            "40320\n",
            "362880\n"
          ]
        }
      ]
    },
    {
      "cell_type": "code",
      "source": [
        "def counter(n):\n",
        "  cnt = 0\n",
        "  for i in range(n):\n",
        "    cnt += 1\n",
        "  return cnt\n"
      ],
      "metadata": {
        "id": "heIv8UCoT-j2"
      },
      "execution_count": 31,
      "outputs": []
    },
    {
      "cell_type": "code",
      "source": [
        "cProfile.run(\"counter(faculty(12))\")"
      ],
      "metadata": {
        "colab": {
          "base_uri": "https://localhost:8080/"
        },
        "id": "15q0ijcEUjrf",
        "outputId": "aedcc897-e3ca-49fa-943a-e905a7409e28"
      },
      "execution_count": 36,
      "outputs": [
        {
          "output_type": "stream",
          "name": "stdout",
          "text": [
            "         16 function calls (5 primitive calls) in 32.423 seconds\n",
            "\n",
            "   Ordered by: standard name\n",
            "\n",
            "   ncalls  tottime  percall  cumtime  percall filename:lineno(function)\n",
            "     12/1    0.000    0.000    0.000    0.000 <ipython-input-28-a15ff9c3ebfb>:1(faculty)\n",
            "        1   32.423   32.423   32.423   32.423 <ipython-input-31-ae9c33ad9a8d>:1(counter)\n",
            "        1    0.000    0.000   32.423   32.423 <string>:1(<module>)\n",
            "        1    0.000    0.000   32.423   32.423 {built-in method builtins.exec}\n",
            "        1    0.000    0.000    0.000    0.000 {method 'disable' of '_lsprof.Profiler' objects}\n",
            "\n",
            "\n"
          ]
        }
      ]
    },
    {
      "cell_type": "code",
      "source": [],
      "metadata": {
        "id": "9BDywqWwVHcm"
      },
      "execution_count": null,
      "outputs": []
    }
  ]
}